{
  "nbformat": 4,
  "nbformat_minor": 0,
  "metadata": {
    "colab": {
      "name": "LTFS.ipynb",
      "version": "0.3.2",
      "provenance": [],
      "collapsed_sections": []
    },
    "kernelspec": {
      "name": "python3",
      "display_name": "Python 3"
    }
  },
  "cells": [
    {
      "metadata": {
        "id": "WWn5zQddBIja",
        "colab_type": "code",
        "colab": {}
      },
      "cell_type": "code",
      "source": [
        "import warnings\n",
        "warnings.filterwarnings(\"ignore\")\n",
        "import sqlite3\n",
        "import pandas as pd\n",
        "import numpy as np\n",
        "import nltk\n",
        "import string\n",
        "import matplotlib.pyplot as plt\n",
        "import seaborn as sns\n"
      ],
      "execution_count": 0,
      "outputs": []
    },
    {
      "metadata": {
        "id": "eqwDewa4BOAn",
        "colab_type": "code",
        "outputId": "0e6e580e-97f1-4b9a-cde2-daeb144dc967",
        "colab": {
          "base_uri": "https://localhost:8080/",
          "height": 35
        }
      },
      "cell_type": "code",
      "source": [
        "# Load the Drive helper and mount\n",
        "from google.colab import drive\n",
        "\n",
        "# This will prompt for authorization.\n",
        "drive.mount('/content/drive')"
      ],
      "execution_count": 0,
      "outputs": [
        {
          "output_type": "stream",
          "text": [
            "Drive already mounted at /content/drive; to attempt to forcibly remount, call drive.mount(\"/content/drive\", force_remount=True).\n"
          ],
          "name": "stdout"
        }
      ]
    },
    {
      "metadata": {
        "id": "J7ijbf48B_mw",
        "colab_type": "code",
        "colab": {}
      },
      "cell_type": "code",
      "source": [
        "train_df= pd.read_csv(\"/content/drive/My Drive/train.csv\")\n",
        "test_df= pd.read_csv(\"/content/drive/My Drive/test_bqCt9Pv.csv\")"
      ],
      "execution_count": 0,
      "outputs": []
    },
    {
      "metadata": {
        "id": "CUs4IhrXCmn_",
        "colab_type": "code",
        "outputId": "8aa68961-8d8f-4d22-d6e0-46b6c1c2161d",
        "colab": {
          "base_uri": "https://localhost:8080/",
          "height": 53
        }
      },
      "cell_type": "code",
      "source": [
        "print(train_df.shape)\n",
        "print(test_df.shape)"
      ],
      "execution_count": 0,
      "outputs": [
        {
          "output_type": "stream",
          "text": [
            "(233154, 41)\n",
            "(112392, 40)\n"
          ],
          "name": "stdout"
        }
      ]
    },
    {
      "metadata": {
        "id": "mmdObRZmGeMx",
        "colab_type": "code",
        "outputId": "ec11d4f9-5c1a-426a-c33e-27687580005f",
        "colab": {
          "base_uri": "https://localhost:8080/",
          "height": 255
        }
      },
      "cell_type": "code",
      "source": [
        "train_df.head()"
      ],
      "execution_count": 0,
      "outputs": [
        {
          "output_type": "execute_result",
          "data": {
            "text/html": [
              "<div>\n",
              "<style scoped>\n",
              "    .dataframe tbody tr th:only-of-type {\n",
              "        vertical-align: middle;\n",
              "    }\n",
              "\n",
              "    .dataframe tbody tr th {\n",
              "        vertical-align: top;\n",
              "    }\n",
              "\n",
              "    .dataframe thead th {\n",
              "        text-align: right;\n",
              "    }\n",
              "</style>\n",
              "<table border=\"1\" class=\"dataframe\">\n",
              "  <thead>\n",
              "    <tr style=\"text-align: right;\">\n",
              "      <th></th>\n",
              "      <th>UniqueID</th>\n",
              "      <th>disbursed_amount</th>\n",
              "      <th>asset_cost</th>\n",
              "      <th>ltv</th>\n",
              "      <th>branch_id</th>\n",
              "      <th>supplier_id</th>\n",
              "      <th>manufacturer_id</th>\n",
              "      <th>Current_pincode_ID</th>\n",
              "      <th>Date.of.Birth</th>\n",
              "      <th>Employment.Type</th>\n",
              "      <th>...</th>\n",
              "      <th>SEC.SANCTIONED.AMOUNT</th>\n",
              "      <th>SEC.DISBURSED.AMOUNT</th>\n",
              "      <th>PRIMARY.INSTAL.AMT</th>\n",
              "      <th>SEC.INSTAL.AMT</th>\n",
              "      <th>NEW.ACCTS.IN.LAST.SIX.MONTHS</th>\n",
              "      <th>DELINQUENT.ACCTS.IN.LAST.SIX.MONTHS</th>\n",
              "      <th>AVERAGE.ACCT.AGE</th>\n",
              "      <th>CREDIT.HISTORY.LENGTH</th>\n",
              "      <th>NO.OF_INQUIRIES</th>\n",
              "      <th>loan_default</th>\n",
              "    </tr>\n",
              "  </thead>\n",
              "  <tbody>\n",
              "    <tr>\n",
              "      <th>0</th>\n",
              "      <td>420825</td>\n",
              "      <td>50578</td>\n",
              "      <td>58400</td>\n",
              "      <td>89.55</td>\n",
              "      <td>67</td>\n",
              "      <td>22807</td>\n",
              "      <td>45</td>\n",
              "      <td>1441</td>\n",
              "      <td>01-01-84</td>\n",
              "      <td>Salaried</td>\n",
              "      <td>...</td>\n",
              "      <td>0</td>\n",
              "      <td>0</td>\n",
              "      <td>0</td>\n",
              "      <td>0</td>\n",
              "      <td>0</td>\n",
              "      <td>0</td>\n",
              "      <td>0yrs 0mon</td>\n",
              "      <td>0yrs 0mon</td>\n",
              "      <td>0</td>\n",
              "      <td>0</td>\n",
              "    </tr>\n",
              "    <tr>\n",
              "      <th>1</th>\n",
              "      <td>537409</td>\n",
              "      <td>47145</td>\n",
              "      <td>65550</td>\n",
              "      <td>73.23</td>\n",
              "      <td>67</td>\n",
              "      <td>22807</td>\n",
              "      <td>45</td>\n",
              "      <td>1502</td>\n",
              "      <td>31-07-85</td>\n",
              "      <td>Self employed</td>\n",
              "      <td>...</td>\n",
              "      <td>0</td>\n",
              "      <td>0</td>\n",
              "      <td>1991</td>\n",
              "      <td>0</td>\n",
              "      <td>0</td>\n",
              "      <td>1</td>\n",
              "      <td>1yrs 11mon</td>\n",
              "      <td>1yrs 11mon</td>\n",
              "      <td>0</td>\n",
              "      <td>1</td>\n",
              "    </tr>\n",
              "    <tr>\n",
              "      <th>2</th>\n",
              "      <td>417566</td>\n",
              "      <td>53278</td>\n",
              "      <td>61360</td>\n",
              "      <td>89.63</td>\n",
              "      <td>67</td>\n",
              "      <td>22807</td>\n",
              "      <td>45</td>\n",
              "      <td>1497</td>\n",
              "      <td>24-08-85</td>\n",
              "      <td>Self employed</td>\n",
              "      <td>...</td>\n",
              "      <td>0</td>\n",
              "      <td>0</td>\n",
              "      <td>0</td>\n",
              "      <td>0</td>\n",
              "      <td>0</td>\n",
              "      <td>0</td>\n",
              "      <td>0yrs 0mon</td>\n",
              "      <td>0yrs 0mon</td>\n",
              "      <td>0</td>\n",
              "      <td>0</td>\n",
              "    </tr>\n",
              "    <tr>\n",
              "      <th>3</th>\n",
              "      <td>624493</td>\n",
              "      <td>57513</td>\n",
              "      <td>66113</td>\n",
              "      <td>88.48</td>\n",
              "      <td>67</td>\n",
              "      <td>22807</td>\n",
              "      <td>45</td>\n",
              "      <td>1501</td>\n",
              "      <td>30-12-93</td>\n",
              "      <td>Self employed</td>\n",
              "      <td>...</td>\n",
              "      <td>0</td>\n",
              "      <td>0</td>\n",
              "      <td>31</td>\n",
              "      <td>0</td>\n",
              "      <td>0</td>\n",
              "      <td>0</td>\n",
              "      <td>0yrs 8mon</td>\n",
              "      <td>1yrs 3mon</td>\n",
              "      <td>1</td>\n",
              "      <td>1</td>\n",
              "    </tr>\n",
              "    <tr>\n",
              "      <th>4</th>\n",
              "      <td>539055</td>\n",
              "      <td>52378</td>\n",
              "      <td>60300</td>\n",
              "      <td>88.39</td>\n",
              "      <td>67</td>\n",
              "      <td>22807</td>\n",
              "      <td>45</td>\n",
              "      <td>1495</td>\n",
              "      <td>09-12-77</td>\n",
              "      <td>Self employed</td>\n",
              "      <td>...</td>\n",
              "      <td>0</td>\n",
              "      <td>0</td>\n",
              "      <td>0</td>\n",
              "      <td>0</td>\n",
              "      <td>0</td>\n",
              "      <td>0</td>\n",
              "      <td>0yrs 0mon</td>\n",
              "      <td>0yrs 0mon</td>\n",
              "      <td>1</td>\n",
              "      <td>1</td>\n",
              "    </tr>\n",
              "  </tbody>\n",
              "</table>\n",
              "<p>5 rows × 41 columns</p>\n",
              "</div>"
            ],
            "text/plain": [
              "   UniqueID  disbursed_amount  asset_cost    ltv  branch_id  supplier_id  \\\n",
              "0    420825             50578       58400  89.55         67        22807   \n",
              "1    537409             47145       65550  73.23         67        22807   \n",
              "2    417566             53278       61360  89.63         67        22807   \n",
              "3    624493             57513       66113  88.48         67        22807   \n",
              "4    539055             52378       60300  88.39         67        22807   \n",
              "\n",
              "   manufacturer_id  Current_pincode_ID Date.of.Birth Employment.Type  \\\n",
              "0               45                1441      01-01-84        Salaried   \n",
              "1               45                1502      31-07-85   Self employed   \n",
              "2               45                1497      24-08-85   Self employed   \n",
              "3               45                1501      30-12-93   Self employed   \n",
              "4               45                1495      09-12-77   Self employed   \n",
              "\n",
              "       ...      SEC.SANCTIONED.AMOUNT  SEC.DISBURSED.AMOUNT  \\\n",
              "0      ...                          0                     0   \n",
              "1      ...                          0                     0   \n",
              "2      ...                          0                     0   \n",
              "3      ...                          0                     0   \n",
              "4      ...                          0                     0   \n",
              "\n",
              "   PRIMARY.INSTAL.AMT  SEC.INSTAL.AMT  NEW.ACCTS.IN.LAST.SIX.MONTHS  \\\n",
              "0                   0               0                             0   \n",
              "1                1991               0                             0   \n",
              "2                   0               0                             0   \n",
              "3                  31               0                             0   \n",
              "4                   0               0                             0   \n",
              "\n",
              "   DELINQUENT.ACCTS.IN.LAST.SIX.MONTHS  AVERAGE.ACCT.AGE  \\\n",
              "0                                    0         0yrs 0mon   \n",
              "1                                    1        1yrs 11mon   \n",
              "2                                    0         0yrs 0mon   \n",
              "3                                    0         0yrs 8mon   \n",
              "4                                    0         0yrs 0mon   \n",
              "\n",
              "   CREDIT.HISTORY.LENGTH  NO.OF_INQUIRIES  loan_default  \n",
              "0              0yrs 0mon                0             0  \n",
              "1             1yrs 11mon                0             1  \n",
              "2              0yrs 0mon                0             0  \n",
              "3              1yrs 3mon                1             1  \n",
              "4              0yrs 0mon                1             1  \n",
              "\n",
              "[5 rows x 41 columns]"
            ]
          },
          "metadata": {
            "tags": []
          },
          "execution_count": 416
        }
      ]
    },
    {
      "metadata": {
        "id": "QexMkNVSGeTu",
        "colab_type": "code",
        "colab": {}
      },
      "cell_type": "code",
      "source": [
        "test_df.head()\n"
      ],
      "execution_count": 0,
      "outputs": []
    },
    {
      "metadata": {
        "id": "IDb8JuwfGehC",
        "colab_type": "code",
        "outputId": "a528ea4c-5b5d-4851-a785-d20fa8b31175",
        "colab": {
          "base_uri": "https://localhost:8080/",
          "height": 349
        }
      },
      "cell_type": "code",
      "source": [
        "train_df.describe()"
      ],
      "execution_count": 0,
      "outputs": [
        {
          "output_type": "execute_result",
          "data": {
            "text/html": [
              "<div>\n",
              "<style scoped>\n",
              "    .dataframe tbody tr th:only-of-type {\n",
              "        vertical-align: middle;\n",
              "    }\n",
              "\n",
              "    .dataframe tbody tr th {\n",
              "        vertical-align: top;\n",
              "    }\n",
              "\n",
              "    .dataframe thead th {\n",
              "        text-align: right;\n",
              "    }\n",
              "</style>\n",
              "<table border=\"1\" class=\"dataframe\">\n",
              "  <thead>\n",
              "    <tr style=\"text-align: right;\">\n",
              "      <th></th>\n",
              "      <th>UniqueID</th>\n",
              "      <th>disbursed_amount</th>\n",
              "      <th>asset_cost</th>\n",
              "      <th>ltv</th>\n",
              "      <th>branch_id</th>\n",
              "      <th>supplier_id</th>\n",
              "      <th>manufacturer_id</th>\n",
              "      <th>Current_pincode_ID</th>\n",
              "      <th>State_ID</th>\n",
              "      <th>Employee_code_ID</th>\n",
              "      <th>...</th>\n",
              "      <th>SEC.OVERDUE.ACCTS</th>\n",
              "      <th>SEC.CURRENT.BALANCE</th>\n",
              "      <th>SEC.SANCTIONED.AMOUNT</th>\n",
              "      <th>SEC.DISBURSED.AMOUNT</th>\n",
              "      <th>PRIMARY.INSTAL.AMT</th>\n",
              "      <th>SEC.INSTAL.AMT</th>\n",
              "      <th>NEW.ACCTS.IN.LAST.SIX.MONTHS</th>\n",
              "      <th>DELINQUENT.ACCTS.IN.LAST.SIX.MONTHS</th>\n",
              "      <th>NO.OF_INQUIRIES</th>\n",
              "      <th>loan_default</th>\n",
              "    </tr>\n",
              "  </thead>\n",
              "  <tbody>\n",
              "    <tr>\n",
              "      <th>count</th>\n",
              "      <td>233154.000000</td>\n",
              "      <td>233154.000000</td>\n",
              "      <td>2.331540e+05</td>\n",
              "      <td>233154.000000</td>\n",
              "      <td>233154.000000</td>\n",
              "      <td>233154.000000</td>\n",
              "      <td>233154.000000</td>\n",
              "      <td>233154.000000</td>\n",
              "      <td>233154.000000</td>\n",
              "      <td>233154.000000</td>\n",
              "      <td>...</td>\n",
              "      <td>233154.000000</td>\n",
              "      <td>2.331540e+05</td>\n",
              "      <td>2.331540e+05</td>\n",
              "      <td>2.331540e+05</td>\n",
              "      <td>2.331540e+05</td>\n",
              "      <td>2.331540e+05</td>\n",
              "      <td>233154.000000</td>\n",
              "      <td>233154.000000</td>\n",
              "      <td>233154.000000</td>\n",
              "      <td>233154.000000</td>\n",
              "    </tr>\n",
              "    <tr>\n",
              "      <th>mean</th>\n",
              "      <td>535917.573376</td>\n",
              "      <td>54356.993528</td>\n",
              "      <td>7.586507e+04</td>\n",
              "      <td>74.746530</td>\n",
              "      <td>72.936094</td>\n",
              "      <td>19638.635035</td>\n",
              "      <td>69.028054</td>\n",
              "      <td>3396.880247</td>\n",
              "      <td>7.262243</td>\n",
              "      <td>1549.477148</td>\n",
              "      <td>...</td>\n",
              "      <td>0.007244</td>\n",
              "      <td>5.427793e+03</td>\n",
              "      <td>7.295923e+03</td>\n",
              "      <td>7.179998e+03</td>\n",
              "      <td>1.310548e+04</td>\n",
              "      <td>3.232684e+02</td>\n",
              "      <td>0.381833</td>\n",
              "      <td>0.097481</td>\n",
              "      <td>0.206615</td>\n",
              "      <td>0.217071</td>\n",
              "    </tr>\n",
              "    <tr>\n",
              "      <th>std</th>\n",
              "      <td>68315.693711</td>\n",
              "      <td>12971.314171</td>\n",
              "      <td>1.894478e+04</td>\n",
              "      <td>11.456636</td>\n",
              "      <td>69.834995</td>\n",
              "      <td>3491.949566</td>\n",
              "      <td>22.141304</td>\n",
              "      <td>2238.147502</td>\n",
              "      <td>4.482230</td>\n",
              "      <td>975.261278</td>\n",
              "      <td>...</td>\n",
              "      <td>0.111079</td>\n",
              "      <td>1.702370e+05</td>\n",
              "      <td>1.831560e+05</td>\n",
              "      <td>1.825925e+05</td>\n",
              "      <td>1.513679e+05</td>\n",
              "      <td>1.555369e+04</td>\n",
              "      <td>0.955107</td>\n",
              "      <td>0.384439</td>\n",
              "      <td>0.706498</td>\n",
              "      <td>0.412252</td>\n",
              "    </tr>\n",
              "    <tr>\n",
              "      <th>min</th>\n",
              "      <td>417428.000000</td>\n",
              "      <td>13320.000000</td>\n",
              "      <td>3.700000e+04</td>\n",
              "      <td>10.030000</td>\n",
              "      <td>1.000000</td>\n",
              "      <td>10524.000000</td>\n",
              "      <td>45.000000</td>\n",
              "      <td>1.000000</td>\n",
              "      <td>1.000000</td>\n",
              "      <td>1.000000</td>\n",
              "      <td>...</td>\n",
              "      <td>0.000000</td>\n",
              "      <td>-5.746470e+05</td>\n",
              "      <td>0.000000e+00</td>\n",
              "      <td>0.000000e+00</td>\n",
              "      <td>0.000000e+00</td>\n",
              "      <td>0.000000e+00</td>\n",
              "      <td>0.000000</td>\n",
              "      <td>0.000000</td>\n",
              "      <td>0.000000</td>\n",
              "      <td>0.000000</td>\n",
              "    </tr>\n",
              "    <tr>\n",
              "      <th>25%</th>\n",
              "      <td>476786.250000</td>\n",
              "      <td>47145.000000</td>\n",
              "      <td>6.571700e+04</td>\n",
              "      <td>68.880000</td>\n",
              "      <td>14.000000</td>\n",
              "      <td>16535.000000</td>\n",
              "      <td>48.000000</td>\n",
              "      <td>1511.000000</td>\n",
              "      <td>4.000000</td>\n",
              "      <td>713.000000</td>\n",
              "      <td>...</td>\n",
              "      <td>0.000000</td>\n",
              "      <td>0.000000e+00</td>\n",
              "      <td>0.000000e+00</td>\n",
              "      <td>0.000000e+00</td>\n",
              "      <td>0.000000e+00</td>\n",
              "      <td>0.000000e+00</td>\n",
              "      <td>0.000000</td>\n",
              "      <td>0.000000</td>\n",
              "      <td>0.000000</td>\n",
              "      <td>0.000000</td>\n",
              "    </tr>\n",
              "    <tr>\n",
              "      <th>50%</th>\n",
              "      <td>535978.500000</td>\n",
              "      <td>53803.000000</td>\n",
              "      <td>7.094600e+04</td>\n",
              "      <td>76.800000</td>\n",
              "      <td>61.000000</td>\n",
              "      <td>20333.000000</td>\n",
              "      <td>86.000000</td>\n",
              "      <td>2970.000000</td>\n",
              "      <td>6.000000</td>\n",
              "      <td>1451.000000</td>\n",
              "      <td>...</td>\n",
              "      <td>0.000000</td>\n",
              "      <td>0.000000e+00</td>\n",
              "      <td>0.000000e+00</td>\n",
              "      <td>0.000000e+00</td>\n",
              "      <td>0.000000e+00</td>\n",
              "      <td>0.000000e+00</td>\n",
              "      <td>0.000000</td>\n",
              "      <td>0.000000</td>\n",
              "      <td>0.000000</td>\n",
              "      <td>0.000000</td>\n",
              "    </tr>\n",
              "    <tr>\n",
              "      <th>75%</th>\n",
              "      <td>595039.750000</td>\n",
              "      <td>60413.000000</td>\n",
              "      <td>7.920175e+04</td>\n",
              "      <td>83.670000</td>\n",
              "      <td>130.000000</td>\n",
              "      <td>23000.000000</td>\n",
              "      <td>86.000000</td>\n",
              "      <td>5677.000000</td>\n",
              "      <td>10.000000</td>\n",
              "      <td>2362.000000</td>\n",
              "      <td>...</td>\n",
              "      <td>0.000000</td>\n",
              "      <td>0.000000e+00</td>\n",
              "      <td>0.000000e+00</td>\n",
              "      <td>0.000000e+00</td>\n",
              "      <td>1.999000e+03</td>\n",
              "      <td>0.000000e+00</td>\n",
              "      <td>0.000000</td>\n",
              "      <td>0.000000</td>\n",
              "      <td>0.000000</td>\n",
              "      <td>0.000000</td>\n",
              "    </tr>\n",
              "    <tr>\n",
              "      <th>max</th>\n",
              "      <td>671084.000000</td>\n",
              "      <td>990572.000000</td>\n",
              "      <td>1.628992e+06</td>\n",
              "      <td>95.000000</td>\n",
              "      <td>261.000000</td>\n",
              "      <td>24803.000000</td>\n",
              "      <td>156.000000</td>\n",
              "      <td>7345.000000</td>\n",
              "      <td>22.000000</td>\n",
              "      <td>3795.000000</td>\n",
              "      <td>...</td>\n",
              "      <td>8.000000</td>\n",
              "      <td>3.603285e+07</td>\n",
              "      <td>3.000000e+07</td>\n",
              "      <td>3.000000e+07</td>\n",
              "      <td>2.564281e+07</td>\n",
              "      <td>4.170901e+06</td>\n",
              "      <td>35.000000</td>\n",
              "      <td>20.000000</td>\n",
              "      <td>36.000000</td>\n",
              "      <td>1.000000</td>\n",
              "    </tr>\n",
              "  </tbody>\n",
              "</table>\n",
              "<p>8 rows × 35 columns</p>\n",
              "</div>"
            ],
            "text/plain": [
              "            UniqueID  disbursed_amount    asset_cost            ltv  \\\n",
              "count  233154.000000     233154.000000  2.331540e+05  233154.000000   \n",
              "mean   535917.573376      54356.993528  7.586507e+04      74.746530   \n",
              "std     68315.693711      12971.314171  1.894478e+04      11.456636   \n",
              "min    417428.000000      13320.000000  3.700000e+04      10.030000   \n",
              "25%    476786.250000      47145.000000  6.571700e+04      68.880000   \n",
              "50%    535978.500000      53803.000000  7.094600e+04      76.800000   \n",
              "75%    595039.750000      60413.000000  7.920175e+04      83.670000   \n",
              "max    671084.000000     990572.000000  1.628992e+06      95.000000   \n",
              "\n",
              "           branch_id    supplier_id  manufacturer_id  Current_pincode_ID  \\\n",
              "count  233154.000000  233154.000000    233154.000000       233154.000000   \n",
              "mean       72.936094   19638.635035        69.028054         3396.880247   \n",
              "std        69.834995    3491.949566        22.141304         2238.147502   \n",
              "min         1.000000   10524.000000        45.000000            1.000000   \n",
              "25%        14.000000   16535.000000        48.000000         1511.000000   \n",
              "50%        61.000000   20333.000000        86.000000         2970.000000   \n",
              "75%       130.000000   23000.000000        86.000000         5677.000000   \n",
              "max       261.000000   24803.000000       156.000000         7345.000000   \n",
              "\n",
              "            State_ID  Employee_code_ID      ...        SEC.OVERDUE.ACCTS  \\\n",
              "count  233154.000000     233154.000000      ...            233154.000000   \n",
              "mean        7.262243       1549.477148      ...                 0.007244   \n",
              "std         4.482230        975.261278      ...                 0.111079   \n",
              "min         1.000000          1.000000      ...                 0.000000   \n",
              "25%         4.000000        713.000000      ...                 0.000000   \n",
              "50%         6.000000       1451.000000      ...                 0.000000   \n",
              "75%        10.000000       2362.000000      ...                 0.000000   \n",
              "max        22.000000       3795.000000      ...                 8.000000   \n",
              "\n",
              "       SEC.CURRENT.BALANCE  SEC.SANCTIONED.AMOUNT  SEC.DISBURSED.AMOUNT  \\\n",
              "count         2.331540e+05           2.331540e+05          2.331540e+05   \n",
              "mean          5.427793e+03           7.295923e+03          7.179998e+03   \n",
              "std           1.702370e+05           1.831560e+05          1.825925e+05   \n",
              "min          -5.746470e+05           0.000000e+00          0.000000e+00   \n",
              "25%           0.000000e+00           0.000000e+00          0.000000e+00   \n",
              "50%           0.000000e+00           0.000000e+00          0.000000e+00   \n",
              "75%           0.000000e+00           0.000000e+00          0.000000e+00   \n",
              "max           3.603285e+07           3.000000e+07          3.000000e+07   \n",
              "\n",
              "       PRIMARY.INSTAL.AMT  SEC.INSTAL.AMT  NEW.ACCTS.IN.LAST.SIX.MONTHS  \\\n",
              "count        2.331540e+05    2.331540e+05                 233154.000000   \n",
              "mean         1.310548e+04    3.232684e+02                      0.381833   \n",
              "std          1.513679e+05    1.555369e+04                      0.955107   \n",
              "min          0.000000e+00    0.000000e+00                      0.000000   \n",
              "25%          0.000000e+00    0.000000e+00                      0.000000   \n",
              "50%          0.000000e+00    0.000000e+00                      0.000000   \n",
              "75%          1.999000e+03    0.000000e+00                      0.000000   \n",
              "max          2.564281e+07    4.170901e+06                     35.000000   \n",
              "\n",
              "       DELINQUENT.ACCTS.IN.LAST.SIX.MONTHS  NO.OF_INQUIRIES   loan_default  \n",
              "count                        233154.000000    233154.000000  233154.000000  \n",
              "mean                              0.097481         0.206615       0.217071  \n",
              "std                               0.384439         0.706498       0.412252  \n",
              "min                               0.000000         0.000000       0.000000  \n",
              "25%                               0.000000         0.000000       0.000000  \n",
              "50%                               0.000000         0.000000       0.000000  \n",
              "75%                               0.000000         0.000000       0.000000  \n",
              "max                              20.000000        36.000000       1.000000  \n",
              "\n",
              "[8 rows x 35 columns]"
            ]
          },
          "metadata": {
            "tags": []
          },
          "execution_count": 365
        }
      ]
    },
    {
      "metadata": {
        "id": "wqqr8AGLGej9",
        "colab_type": "code",
        "outputId": "4bf8b1a1-9727-4ad2-d7cc-79468197d0a2",
        "colab": {
          "base_uri": "https://localhost:8080/",
          "height": 349
        }
      },
      "cell_type": "code",
      "source": [
        "test_df.describe()"
      ],
      "execution_count": 0,
      "outputs": [
        {
          "output_type": "execute_result",
          "data": {
            "text/html": [
              "<div>\n",
              "<style scoped>\n",
              "    .dataframe tbody tr th:only-of-type {\n",
              "        vertical-align: middle;\n",
              "    }\n",
              "\n",
              "    .dataframe tbody tr th {\n",
              "        vertical-align: top;\n",
              "    }\n",
              "\n",
              "    .dataframe thead th {\n",
              "        text-align: right;\n",
              "    }\n",
              "</style>\n",
              "<table border=\"1\" class=\"dataframe\">\n",
              "  <thead>\n",
              "    <tr style=\"text-align: right;\">\n",
              "      <th></th>\n",
              "      <th>UniqueID</th>\n",
              "      <th>disbursed_amount</th>\n",
              "      <th>asset_cost</th>\n",
              "      <th>ltv</th>\n",
              "      <th>branch_id</th>\n",
              "      <th>supplier_id</th>\n",
              "      <th>manufacturer_id</th>\n",
              "      <th>Current_pincode_ID</th>\n",
              "      <th>State_ID</th>\n",
              "      <th>Employee_code_ID</th>\n",
              "      <th>...</th>\n",
              "      <th>SEC.ACTIVE.ACCTS</th>\n",
              "      <th>SEC.OVERDUE.ACCTS</th>\n",
              "      <th>SEC.CURRENT.BALANCE</th>\n",
              "      <th>SEC.SANCTIONED.AMOUNT</th>\n",
              "      <th>SEC.DISBURSED.AMOUNT</th>\n",
              "      <th>PRIMARY.INSTAL.AMT</th>\n",
              "      <th>SEC.INSTAL.AMT</th>\n",
              "      <th>NEW.ACCTS.IN.LAST.SIX.MONTHS</th>\n",
              "      <th>DELINQUENT.ACCTS.IN.LAST.SIX.MONTHS</th>\n",
              "      <th>NO.OF_INQUIRIES</th>\n",
              "    </tr>\n",
              "  </thead>\n",
              "  <tbody>\n",
              "    <tr>\n",
              "      <th>count</th>\n",
              "      <td>112392.000000</td>\n",
              "      <td>112392.000000</td>\n",
              "      <td>1.123920e+05</td>\n",
              "      <td>112392.000000</td>\n",
              "      <td>112392.000000</td>\n",
              "      <td>112392.000000</td>\n",
              "      <td>112392.000000</td>\n",
              "      <td>112392.000000</td>\n",
              "      <td>112392.000000</td>\n",
              "      <td>112392.000000</td>\n",
              "      <td>...</td>\n",
              "      <td>112392.000000</td>\n",
              "      <td>112392.000000</td>\n",
              "      <td>1.123920e+05</td>\n",
              "      <td>1.123920e+05</td>\n",
              "      <td>1.123920e+05</td>\n",
              "      <td>1.123920e+05</td>\n",
              "      <td>1.123920e+05</td>\n",
              "      <td>112392.000000</td>\n",
              "      <td>112392.000000</td>\n",
              "      <td>112392.000000</td>\n",
              "    </tr>\n",
              "    <tr>\n",
              "      <th>mean</th>\n",
              "      <td>711741.891861</td>\n",
              "      <td>56076.803269</td>\n",
              "      <td>7.718639e+04</td>\n",
              "      <td>75.310325</td>\n",
              "      <td>78.902591</td>\n",
              "      <td>19843.303545</td>\n",
              "      <td>68.366031</td>\n",
              "      <td>3014.001352</td>\n",
              "      <td>7.215754</td>\n",
              "      <td>1771.651541</td>\n",
              "      <td>...</td>\n",
              "      <td>0.012350</td>\n",
              "      <td>0.003176</td>\n",
              "      <td>2.776081e+03</td>\n",
              "      <td>3.721477e+03</td>\n",
              "      <td>3.671156e+03</td>\n",
              "      <td>1.123698e+04</td>\n",
              "      <td>1.679060e+02</td>\n",
              "      <td>0.314907</td>\n",
              "      <td>0.091884</td>\n",
              "      <td>0.226119</td>\n",
              "    </tr>\n",
              "    <tr>\n",
              "      <th>std</th>\n",
              "      <td>33492.215991</td>\n",
              "      <td>13123.697627</td>\n",
              "      <td>1.827149e+04</td>\n",
              "      <td>11.006380</td>\n",
              "      <td>71.469633</td>\n",
              "      <td>3555.303301</td>\n",
              "      <td>22.137265</td>\n",
              "      <td>2223.215364</td>\n",
              "      <td>4.679847</td>\n",
              "      <td>1104.533635</td>\n",
              "      <td>...</td>\n",
              "      <td>0.198374</td>\n",
              "      <td>0.073784</td>\n",
              "      <td>1.406059e+05</td>\n",
              "      <td>2.015516e+05</td>\n",
              "      <td>2.013686e+05</td>\n",
              "      <td>2.741250e+05</td>\n",
              "      <td>1.763841e+04</td>\n",
              "      <td>0.843406</td>\n",
              "      <td>0.381809</td>\n",
              "      <td>0.739231</td>\n",
              "    </tr>\n",
              "    <tr>\n",
              "      <th>min</th>\n",
              "      <td>654115.000000</td>\n",
              "      <td>11613.000000</td>\n",
              "      <td>4.011700e+04</td>\n",
              "      <td>10.030000</td>\n",
              "      <td>1.000000</td>\n",
              "      <td>10524.000000</td>\n",
              "      <td>45.000000</td>\n",
              "      <td>1.000000</td>\n",
              "      <td>1.000000</td>\n",
              "      <td>1.000000</td>\n",
              "      <td>...</td>\n",
              "      <td>0.000000</td>\n",
              "      <td>0.000000</td>\n",
              "      <td>-3.882000e+03</td>\n",
              "      <td>0.000000e+00</td>\n",
              "      <td>0.000000e+00</td>\n",
              "      <td>0.000000e+00</td>\n",
              "      <td>0.000000e+00</td>\n",
              "      <td>0.000000</td>\n",
              "      <td>0.000000</td>\n",
              "      <td>0.000000</td>\n",
              "    </tr>\n",
              "    <tr>\n",
              "      <th>25%</th>\n",
              "      <td>682658.750000</td>\n",
              "      <td>48849.000000</td>\n",
              "      <td>6.751000e+04</td>\n",
              "      <td>69.970000</td>\n",
              "      <td>15.000000</td>\n",
              "      <td>16633.000000</td>\n",
              "      <td>45.000000</td>\n",
              "      <td>1312.000000</td>\n",
              "      <td>4.000000</td>\n",
              "      <td>801.000000</td>\n",
              "      <td>...</td>\n",
              "      <td>0.000000</td>\n",
              "      <td>0.000000</td>\n",
              "      <td>0.000000e+00</td>\n",
              "      <td>0.000000e+00</td>\n",
              "      <td>0.000000e+00</td>\n",
              "      <td>0.000000e+00</td>\n",
              "      <td>0.000000e+00</td>\n",
              "      <td>0.000000</td>\n",
              "      <td>0.000000</td>\n",
              "      <td>0.000000</td>\n",
              "    </tr>\n",
              "    <tr>\n",
              "      <th>50%</th>\n",
              "      <td>711522.500000</td>\n",
              "      <td>55359.000000</td>\n",
              "      <td>7.258400e+04</td>\n",
              "      <td>77.780000</td>\n",
              "      <td>67.000000</td>\n",
              "      <td>20675.000000</td>\n",
              "      <td>86.000000</td>\n",
              "      <td>2412.000000</td>\n",
              "      <td>6.000000</td>\n",
              "      <td>1664.000000</td>\n",
              "      <td>...</td>\n",
              "      <td>0.000000</td>\n",
              "      <td>0.000000</td>\n",
              "      <td>0.000000e+00</td>\n",
              "      <td>0.000000e+00</td>\n",
              "      <td>0.000000e+00</td>\n",
              "      <td>0.000000e+00</td>\n",
              "      <td>0.000000e+00</td>\n",
              "      <td>0.000000</td>\n",
              "      <td>0.000000</td>\n",
              "      <td>0.000000</td>\n",
              "    </tr>\n",
              "    <tr>\n",
              "      <th>75%</th>\n",
              "      <td>740851.250000</td>\n",
              "      <td>62147.000000</td>\n",
              "      <td>8.004000e+04</td>\n",
              "      <td>83.740000</td>\n",
              "      <td>136.000000</td>\n",
              "      <td>23170.000000</td>\n",
              "      <td>86.000000</td>\n",
              "      <td>5092.000000</td>\n",
              "      <td>10.000000</td>\n",
              "      <td>2694.000000</td>\n",
              "      <td>...</td>\n",
              "      <td>0.000000</td>\n",
              "      <td>0.000000</td>\n",
              "      <td>0.000000e+00</td>\n",
              "      <td>0.000000e+00</td>\n",
              "      <td>0.000000e+00</td>\n",
              "      <td>1.855000e+03</td>\n",
              "      <td>0.000000e+00</td>\n",
              "      <td>0.000000</td>\n",
              "      <td>0.000000</td>\n",
              "      <td>0.000000</td>\n",
              "    </tr>\n",
              "    <tr>\n",
              "      <th>max</th>\n",
              "      <td>769909.000000</td>\n",
              "      <td>940690.000000</td>\n",
              "      <td>1.271553e+06</td>\n",
              "      <td>95.000000</td>\n",
              "      <td>261.000000</td>\n",
              "      <td>24901.000000</td>\n",
              "      <td>155.000000</td>\n",
              "      <td>7345.000000</td>\n",
              "      <td>22.000000</td>\n",
              "      <td>3923.000000</td>\n",
              "      <td>...</td>\n",
              "      <td>20.000000</td>\n",
              "      <td>8.000000</td>\n",
              "      <td>3.579410e+07</td>\n",
              "      <td>5.794500e+07</td>\n",
              "      <td>5.794500e+07</td>\n",
              "      <td>8.526233e+07</td>\n",
              "      <td>5.390000e+06</td>\n",
              "      <td>22.000000</td>\n",
              "      <td>18.000000</td>\n",
              "      <td>23.000000</td>\n",
              "    </tr>\n",
              "  </tbody>\n",
              "</table>\n",
              "<p>8 rows × 34 columns</p>\n",
              "</div>"
            ],
            "text/plain": [
              "            UniqueID  disbursed_amount    asset_cost            ltv  \\\n",
              "count  112392.000000     112392.000000  1.123920e+05  112392.000000   \n",
              "mean   711741.891861      56076.803269  7.718639e+04      75.310325   \n",
              "std     33492.215991      13123.697627  1.827149e+04      11.006380   \n",
              "min    654115.000000      11613.000000  4.011700e+04      10.030000   \n",
              "25%    682658.750000      48849.000000  6.751000e+04      69.970000   \n",
              "50%    711522.500000      55359.000000  7.258400e+04      77.780000   \n",
              "75%    740851.250000      62147.000000  8.004000e+04      83.740000   \n",
              "max    769909.000000     940690.000000  1.271553e+06      95.000000   \n",
              "\n",
              "           branch_id    supplier_id  manufacturer_id  Current_pincode_ID  \\\n",
              "count  112392.000000  112392.000000    112392.000000       112392.000000   \n",
              "mean       78.902591   19843.303545        68.366031         3014.001352   \n",
              "std        71.469633    3555.303301        22.137265         2223.215364   \n",
              "min         1.000000   10524.000000        45.000000            1.000000   \n",
              "25%        15.000000   16633.000000        45.000000         1312.000000   \n",
              "50%        67.000000   20675.000000        86.000000         2412.000000   \n",
              "75%       136.000000   23170.000000        86.000000         5092.000000   \n",
              "max       261.000000   24901.000000       155.000000         7345.000000   \n",
              "\n",
              "            State_ID  Employee_code_ID       ...         SEC.ACTIVE.ACCTS  \\\n",
              "count  112392.000000     112392.000000       ...            112392.000000   \n",
              "mean        7.215754       1771.651541       ...                 0.012350   \n",
              "std         4.679847       1104.533635       ...                 0.198374   \n",
              "min         1.000000          1.000000       ...                 0.000000   \n",
              "25%         4.000000        801.000000       ...                 0.000000   \n",
              "50%         6.000000       1664.000000       ...                 0.000000   \n",
              "75%        10.000000       2694.000000       ...                 0.000000   \n",
              "max        22.000000       3923.000000       ...                20.000000   \n",
              "\n",
              "       SEC.OVERDUE.ACCTS  SEC.CURRENT.BALANCE  SEC.SANCTIONED.AMOUNT  \\\n",
              "count      112392.000000         1.123920e+05           1.123920e+05   \n",
              "mean            0.003176         2.776081e+03           3.721477e+03   \n",
              "std             0.073784         1.406059e+05           2.015516e+05   \n",
              "min             0.000000        -3.882000e+03           0.000000e+00   \n",
              "25%             0.000000         0.000000e+00           0.000000e+00   \n",
              "50%             0.000000         0.000000e+00           0.000000e+00   \n",
              "75%             0.000000         0.000000e+00           0.000000e+00   \n",
              "max             8.000000         3.579410e+07           5.794500e+07   \n",
              "\n",
              "       SEC.DISBURSED.AMOUNT  PRIMARY.INSTAL.AMT  SEC.INSTAL.AMT  \\\n",
              "count          1.123920e+05        1.123920e+05    1.123920e+05   \n",
              "mean           3.671156e+03        1.123698e+04    1.679060e+02   \n",
              "std            2.013686e+05        2.741250e+05    1.763841e+04   \n",
              "min            0.000000e+00        0.000000e+00    0.000000e+00   \n",
              "25%            0.000000e+00        0.000000e+00    0.000000e+00   \n",
              "50%            0.000000e+00        0.000000e+00    0.000000e+00   \n",
              "75%            0.000000e+00        1.855000e+03    0.000000e+00   \n",
              "max            5.794500e+07        8.526233e+07    5.390000e+06   \n",
              "\n",
              "       NEW.ACCTS.IN.LAST.SIX.MONTHS  DELINQUENT.ACCTS.IN.LAST.SIX.MONTHS  \\\n",
              "count                 112392.000000                        112392.000000   \n",
              "mean                       0.314907                             0.091884   \n",
              "std                        0.843406                             0.381809   \n",
              "min                        0.000000                             0.000000   \n",
              "25%                        0.000000                             0.000000   \n",
              "50%                        0.000000                             0.000000   \n",
              "75%                        0.000000                             0.000000   \n",
              "max                       22.000000                            18.000000   \n",
              "\n",
              "       NO.OF_INQUIRIES  \n",
              "count    112392.000000  \n",
              "mean          0.226119  \n",
              "std           0.739231  \n",
              "min           0.000000  \n",
              "25%           0.000000  \n",
              "50%           0.000000  \n",
              "75%           0.000000  \n",
              "max          23.000000  \n",
              "\n",
              "[8 rows x 34 columns]"
            ]
          },
          "metadata": {
            "tags": []
          },
          "execution_count": 366
        }
      ]
    },
    {
      "metadata": {
        "id": "8dmIWFCIGemd",
        "colab_type": "code",
        "outputId": "c0da5273-1f06-4432-a081-5ea493a772ef",
        "colab": {
          "base_uri": "https://localhost:8080/",
          "height": 853
        }
      },
      "cell_type": "code",
      "source": [
        " train_df.info()"
      ],
      "execution_count": 0,
      "outputs": [
        {
          "output_type": "stream",
          "text": [
            "<class 'pandas.core.frame.DataFrame'>\n",
            "RangeIndex: 233154 entries, 0 to 233153\n",
            "Data columns (total 41 columns):\n",
            "UniqueID                               233154 non-null int64\n",
            "disbursed_amount                       233154 non-null int64\n",
            "asset_cost                             233154 non-null int64\n",
            "ltv                                    233154 non-null float64\n",
            "branch_id                              233154 non-null int64\n",
            "supplier_id                            233154 non-null int64\n",
            "manufacturer_id                        233154 non-null int64\n",
            "Current_pincode_ID                     233154 non-null int64\n",
            "Date.of.Birth                          233154 non-null object\n",
            "Employment.Type                        225493 non-null object\n",
            "DisbursalDate                          233154 non-null object\n",
            "State_ID                               233154 non-null int64\n",
            "Employee_code_ID                       233154 non-null int64\n",
            "MobileNo_Avl_Flag                      233154 non-null int64\n",
            "Aadhar_flag                            233154 non-null int64\n",
            "PAN_flag                               233154 non-null int64\n",
            "VoterID_flag                           233154 non-null int64\n",
            "Driving_flag                           233154 non-null int64\n",
            "Passport_flag                          233154 non-null int64\n",
            "PERFORM_CNS.SCORE                      233154 non-null int64\n",
            "PERFORM_CNS.SCORE.DESCRIPTION          233154 non-null object\n",
            "PRI.NO.OF.ACCTS                        233154 non-null int64\n",
            "PRI.ACTIVE.ACCTS                       233154 non-null int64\n",
            "PRI.OVERDUE.ACCTS                      233154 non-null int64\n",
            "PRI.CURRENT.BALANCE                    233154 non-null int64\n",
            "PRI.SANCTIONED.AMOUNT                  233154 non-null int64\n",
            "PRI.DISBURSED.AMOUNT                   233154 non-null int64\n",
            "SEC.NO.OF.ACCTS                        233154 non-null int64\n",
            "SEC.ACTIVE.ACCTS                       233154 non-null int64\n",
            "SEC.OVERDUE.ACCTS                      233154 non-null int64\n",
            "SEC.CURRENT.BALANCE                    233154 non-null int64\n",
            "SEC.SANCTIONED.AMOUNT                  233154 non-null int64\n",
            "SEC.DISBURSED.AMOUNT                   233154 non-null int64\n",
            "PRIMARY.INSTAL.AMT                     233154 non-null int64\n",
            "SEC.INSTAL.AMT                         233154 non-null int64\n",
            "NEW.ACCTS.IN.LAST.SIX.MONTHS           233154 non-null int64\n",
            "DELINQUENT.ACCTS.IN.LAST.SIX.MONTHS    233154 non-null int64\n",
            "AVERAGE.ACCT.AGE                       233154 non-null object\n",
            "CREDIT.HISTORY.LENGTH                  233154 non-null object\n",
            "NO.OF_INQUIRIES                        233154 non-null int64\n",
            "loan_default                           233154 non-null int64\n",
            "dtypes: float64(1), int64(34), object(6)\n",
            "memory usage: 72.9+ MB\n"
          ],
          "name": "stdout"
        }
      ]
    },
    {
      "metadata": {
        "id": "eIKxqSfYGepP",
        "colab_type": "code",
        "outputId": "0cfa6d82-acb2-4ba2-8455-f91d01a5143b",
        "colab": {
          "base_uri": "https://localhost:8080/",
          "height": 835
        }
      },
      "cell_type": "code",
      "source": [
        "test_df.info()"
      ],
      "execution_count": 0,
      "outputs": [
        {
          "output_type": "stream",
          "text": [
            "<class 'pandas.core.frame.DataFrame'>\n",
            "RangeIndex: 112392 entries, 0 to 112391\n",
            "Data columns (total 40 columns):\n",
            "UniqueID                               112392 non-null int64\n",
            "disbursed_amount                       112392 non-null int64\n",
            "asset_cost                             112392 non-null int64\n",
            "ltv                                    112392 non-null float64\n",
            "branch_id                              112392 non-null int64\n",
            "supplier_id                            112392 non-null int64\n",
            "manufacturer_id                        112392 non-null int64\n",
            "Current_pincode_ID                     112392 non-null int64\n",
            "Date.of.Birth                          112392 non-null object\n",
            "Employment.Type                        108949 non-null object\n",
            "DisbursalDate                          112392 non-null object\n",
            "State_ID                               112392 non-null int64\n",
            "Employee_code_ID                       112392 non-null int64\n",
            "MobileNo_Avl_Flag                      112392 non-null int64\n",
            "Aadhar_flag                            112392 non-null int64\n",
            "PAN_flag                               112392 non-null int64\n",
            "VoterID_flag                           112392 non-null int64\n",
            "Driving_flag                           112392 non-null int64\n",
            "Passport_flag                          112392 non-null int64\n",
            "PERFORM_CNS.SCORE                      112392 non-null int64\n",
            "PERFORM_CNS.SCORE.DESCRIPTION          112392 non-null object\n",
            "PRI.NO.OF.ACCTS                        112392 non-null int64\n",
            "PRI.ACTIVE.ACCTS                       112392 non-null int64\n",
            "PRI.OVERDUE.ACCTS                      112392 non-null int64\n",
            "PRI.CURRENT.BALANCE                    112392 non-null int64\n",
            "PRI.SANCTIONED.AMOUNT                  112392 non-null int64\n",
            "PRI.DISBURSED.AMOUNT                   112392 non-null int64\n",
            "SEC.NO.OF.ACCTS                        112392 non-null int64\n",
            "SEC.ACTIVE.ACCTS                       112392 non-null int64\n",
            "SEC.OVERDUE.ACCTS                      112392 non-null int64\n",
            "SEC.CURRENT.BALANCE                    112392 non-null int64\n",
            "SEC.SANCTIONED.AMOUNT                  112392 non-null int64\n",
            "SEC.DISBURSED.AMOUNT                   112392 non-null int64\n",
            "PRIMARY.INSTAL.AMT                     112392 non-null int64\n",
            "SEC.INSTAL.AMT                         112392 non-null int64\n",
            "NEW.ACCTS.IN.LAST.SIX.MONTHS           112392 non-null int64\n",
            "DELINQUENT.ACCTS.IN.LAST.SIX.MONTHS    112392 non-null int64\n",
            "AVERAGE.ACCT.AGE                       112392 non-null object\n",
            "CREDIT.HISTORY.LENGTH                  112392 non-null object\n",
            "NO.OF_INQUIRIES                        112392 non-null int64\n",
            "dtypes: float64(1), int64(33), object(6)\n",
            "memory usage: 34.3+ MB\n"
          ],
          "name": "stdout"
        }
      ]
    },
    {
      "metadata": {
        "id": "4HmJ9_jBGerd",
        "colab_type": "code",
        "outputId": "74e9af65-9685-43af-abae-7924c90259d8",
        "colab": {
          "base_uri": "https://localhost:8080/",
          "height": 780
        }
      },
      "cell_type": "code",
      "source": [
        "train_df.dtypes"
      ],
      "execution_count": 0,
      "outputs": [
        {
          "output_type": "execute_result",
          "data": {
            "text/plain": [
              "UniqueID                                 int64\n",
              "disbursed_amount                         int64\n",
              "asset_cost                               int64\n",
              "ltv                                    float64\n",
              "branch_id                                int64\n",
              "supplier_id                              int64\n",
              "manufacturer_id                          int64\n",
              "Current_pincode_ID                       int64\n",
              "Date.of.Birth                           object\n",
              "Employment.Type                         object\n",
              "DisbursalDate                           object\n",
              "State_ID                                 int64\n",
              "Employee_code_ID                         int64\n",
              "MobileNo_Avl_Flag                        int64\n",
              "Aadhar_flag                              int64\n",
              "PAN_flag                                 int64\n",
              "VoterID_flag                             int64\n",
              "Driving_flag                             int64\n",
              "Passport_flag                            int64\n",
              "PERFORM_CNS.SCORE                        int64\n",
              "PERFORM_CNS.SCORE.DESCRIPTION           object\n",
              "PRI.NO.OF.ACCTS                          int64\n",
              "PRI.ACTIVE.ACCTS                         int64\n",
              "PRI.OVERDUE.ACCTS                        int64\n",
              "PRI.CURRENT.BALANCE                      int64\n",
              "PRI.SANCTIONED.AMOUNT                    int64\n",
              "PRI.DISBURSED.AMOUNT                     int64\n",
              "SEC.NO.OF.ACCTS                          int64\n",
              "SEC.ACTIVE.ACCTS                         int64\n",
              "SEC.OVERDUE.ACCTS                        int64\n",
              "SEC.CURRENT.BALANCE                      int64\n",
              "SEC.SANCTIONED.AMOUNT                    int64\n",
              "SEC.DISBURSED.AMOUNT                     int64\n",
              "PRIMARY.INSTAL.AMT                       int64\n",
              "SEC.INSTAL.AMT                           int64\n",
              "NEW.ACCTS.IN.LAST.SIX.MONTHS             int64\n",
              "DELINQUENT.ACCTS.IN.LAST.SIX.MONTHS      int64\n",
              "AVERAGE.ACCT.AGE                        object\n",
              "CREDIT.HISTORY.LENGTH                   object\n",
              "NO.OF_INQUIRIES                          int64\n",
              "loan_default                             int64\n",
              "dtype: object"
            ]
          },
          "metadata": {
            "tags": []
          },
          "execution_count": 369
        }
      ]
    },
    {
      "metadata": {
        "id": "pAZ3f1_4Gew8",
        "colab_type": "code",
        "outputId": "77b3d9a4-b0d5-4d49-ebfc-0955296f0f0c",
        "colab": {
          "base_uri": "https://localhost:8080/",
          "height": 780
        }
      },
      "cell_type": "code",
      "source": [
        "#check if any null data is there\n",
        "\n",
        "train_df.isnull().sum()"
      ],
      "execution_count": 0,
      "outputs": [
        {
          "output_type": "execute_result",
          "data": {
            "text/plain": [
              "UniqueID                                  0\n",
              "disbursed_amount                          0\n",
              "asset_cost                                0\n",
              "ltv                                       0\n",
              "branch_id                                 0\n",
              "supplier_id                               0\n",
              "manufacturer_id                           0\n",
              "Current_pincode_ID                        0\n",
              "Date.of.Birth                             0\n",
              "Employment.Type                        7661\n",
              "DisbursalDate                             0\n",
              "State_ID                                  0\n",
              "Employee_code_ID                          0\n",
              "MobileNo_Avl_Flag                         0\n",
              "Aadhar_flag                               0\n",
              "PAN_flag                                  0\n",
              "VoterID_flag                              0\n",
              "Driving_flag                              0\n",
              "Passport_flag                             0\n",
              "PERFORM_CNS.SCORE                         0\n",
              "PERFORM_CNS.SCORE.DESCRIPTION             0\n",
              "PRI.NO.OF.ACCTS                           0\n",
              "PRI.ACTIVE.ACCTS                          0\n",
              "PRI.OVERDUE.ACCTS                         0\n",
              "PRI.CURRENT.BALANCE                       0\n",
              "PRI.SANCTIONED.AMOUNT                     0\n",
              "PRI.DISBURSED.AMOUNT                      0\n",
              "SEC.NO.OF.ACCTS                           0\n",
              "SEC.ACTIVE.ACCTS                          0\n",
              "SEC.OVERDUE.ACCTS                         0\n",
              "SEC.CURRENT.BALANCE                       0\n",
              "SEC.SANCTIONED.AMOUNT                     0\n",
              "SEC.DISBURSED.AMOUNT                      0\n",
              "PRIMARY.INSTAL.AMT                        0\n",
              "SEC.INSTAL.AMT                            0\n",
              "NEW.ACCTS.IN.LAST.SIX.MONTHS              0\n",
              "DELINQUENT.ACCTS.IN.LAST.SIX.MONTHS       0\n",
              "AVERAGE.ACCT.AGE                          0\n",
              "CREDIT.HISTORY.LENGTH                     0\n",
              "NO.OF_INQUIRIES                           0\n",
              "loan_default                              0\n",
              "dtype: int64"
            ]
          },
          "metadata": {
            "tags": []
          },
          "execution_count": 370
        }
      ]
    },
    {
      "metadata": {
        "id": "LO45wK2VLLLh",
        "colab_type": "code",
        "colab": {}
      },
      "cell_type": "code",
      "source": [
        ""
      ],
      "execution_count": 0,
      "outputs": []
    },
    {
      "metadata": {
        "id": "ywdiYVkILLPs",
        "colab_type": "code",
        "outputId": "06e5bb35-3eb1-4281-8bba-91beab46708c",
        "colab": {
          "base_uri": "https://localhost:8080/",
          "height": 72
        }
      },
      "cell_type": "code",
      "source": [
        "train_df['Employment.Type'].value_counts()"
      ],
      "execution_count": 0,
      "outputs": [
        {
          "output_type": "execute_result",
          "data": {
            "text/plain": [
              "Self employed    127635\n",
              "Salaried          97858\n",
              "Name: Employment.Type, dtype: int64"
            ]
          },
          "metadata": {
            "tags": []
          },
          "execution_count": 371
        }
      ]
    },
    {
      "metadata": {
        "id": "iWFlQO30LLTO",
        "colab_type": "code",
        "colab": {}
      },
      "cell_type": "code",
      "source": [
        "#we can see there is missing data in employment type columns. We can remove the entire missing data and can proceed with the remaining data.\n",
        "#though this type of data can't be missing in loan application, we can consider it as the unemployed category of data.\n",
        "# changing this to type \"unemployed in both train and test\"\n",
        "\n",
        "train_df['Employment.Type'].fillna('unemployed',inplace=True)\n",
        "test_df['Employment.Type'].fillna('unemployed',inplace=True)"
      ],
      "execution_count": 0,
      "outputs": []
    },
    {
      "metadata": {
        "id": "GzKXCRtsG7ER",
        "colab_type": "code",
        "colab": {}
      },
      "cell_type": "code",
      "source": [
        "\n"
      ],
      "execution_count": 0,
      "outputs": []
    },
    {
      "metadata": {
        "id": "p6msCucALLjO",
        "colab_type": "code",
        "outputId": "ec52f404-e086-4cad-a38d-be35f8f6fc81",
        "colab": {
          "base_uri": "https://localhost:8080/",
          "height": 35
        }
      },
      "cell_type": "code",
      "source": [
        "train_df.isnull().sum().sum()\n"
      ],
      "execution_count": 0,
      "outputs": [
        {
          "output_type": "execute_result",
          "data": {
            "text/plain": [
              "0"
            ]
          },
          "metadata": {
            "tags": []
          },
          "execution_count": 373
        }
      ]
    },
    {
      "metadata": {
        "id": "Z1b6yUPmQQlt",
        "colab_type": "code",
        "outputId": "64a0c870-ec6a-4708-8c7d-4e8acffd5ae5",
        "colab": {
          "base_uri": "https://localhost:8080/",
          "height": 35
        }
      },
      "cell_type": "code",
      "source": [
        "test_df.isnull().sum().sum()"
      ],
      "execution_count": 0,
      "outputs": [
        {
          "output_type": "execute_result",
          "data": {
            "text/plain": [
              "0"
            ]
          },
          "metadata": {
            "tags": []
          },
          "execution_count": 374
        }
      ]
    },
    {
      "metadata": {
        "id": "bxy5LTCoLLnF",
        "colab_type": "code",
        "colab": {}
      },
      "cell_type": "code",
      "source": [
        "#store unique id and default prediction separately\n",
        "u_id = test_df['UniqueID']\n",
        "y_train= train_df.iloc[:,-1]\n",
        "#print(y_train)"
      ],
      "execution_count": 0,
      "outputs": []
    },
    {
      "metadata": {
        "id": "YRZ9LzBhQSVS",
        "colab_type": "code",
        "outputId": "bbfa2aea-a688-4710-d57e-7cc1e92b489b",
        "colab": {
          "base_uri": "https://localhost:8080/",
          "height": 35
        }
      },
      "cell_type": "code",
      "source": [
        "#now join the train and test data to further analyse the data\n",
        "#but first drop the last column of test data \n",
        "new_train_df= train_df.drop(['loan_default'],axis=1)\n",
        "\n",
        "total_data= pd.concat([new_train_df,test_df], axis =0)\n",
        "#total_data.tail(10)\n",
        "total_data.shape\n"
      ],
      "execution_count": 0,
      "outputs": [
        {
          "output_type": "execute_result",
          "data": {
            "text/plain": [
              "(345546, 40)"
            ]
          },
          "metadata": {
            "tags": []
          },
          "execution_count": 376
        }
      ]
    },
    {
      "metadata": {
        "id": "o86lvS_vQSfV",
        "colab_type": "code",
        "outputId": "9c7c2021-a144-4377-9252-8afd9bc32803",
        "colab": {
          "base_uri": "https://localhost:8080/",
          "height": 255
        }
      },
      "cell_type": "code",
      "source": [
        "#perform encoding for employment type\n",
        "\n",
        "\n",
        "total_data['Employment.Type'].value_counts()\n",
        "\n",
        "total_data['Employment.Type']=total_data['Employment.Type'].replace(('unemployed','Self employed','Salaried'),(0,1,2))\n",
        "\n",
        "total_data.head()"
      ],
      "execution_count": 0,
      "outputs": [
        {
          "output_type": "execute_result",
          "data": {
            "text/html": [
              "<div>\n",
              "<style scoped>\n",
              "    .dataframe tbody tr th:only-of-type {\n",
              "        vertical-align: middle;\n",
              "    }\n",
              "\n",
              "    .dataframe tbody tr th {\n",
              "        vertical-align: top;\n",
              "    }\n",
              "\n",
              "    .dataframe thead th {\n",
              "        text-align: right;\n",
              "    }\n",
              "</style>\n",
              "<table border=\"1\" class=\"dataframe\">\n",
              "  <thead>\n",
              "    <tr style=\"text-align: right;\">\n",
              "      <th></th>\n",
              "      <th>UniqueID</th>\n",
              "      <th>disbursed_amount</th>\n",
              "      <th>asset_cost</th>\n",
              "      <th>ltv</th>\n",
              "      <th>branch_id</th>\n",
              "      <th>supplier_id</th>\n",
              "      <th>manufacturer_id</th>\n",
              "      <th>Current_pincode_ID</th>\n",
              "      <th>Date.of.Birth</th>\n",
              "      <th>Employment.Type</th>\n",
              "      <th>...</th>\n",
              "      <th>SEC.CURRENT.BALANCE</th>\n",
              "      <th>SEC.SANCTIONED.AMOUNT</th>\n",
              "      <th>SEC.DISBURSED.AMOUNT</th>\n",
              "      <th>PRIMARY.INSTAL.AMT</th>\n",
              "      <th>SEC.INSTAL.AMT</th>\n",
              "      <th>NEW.ACCTS.IN.LAST.SIX.MONTHS</th>\n",
              "      <th>DELINQUENT.ACCTS.IN.LAST.SIX.MONTHS</th>\n",
              "      <th>AVERAGE.ACCT.AGE</th>\n",
              "      <th>CREDIT.HISTORY.LENGTH</th>\n",
              "      <th>NO.OF_INQUIRIES</th>\n",
              "    </tr>\n",
              "  </thead>\n",
              "  <tbody>\n",
              "    <tr>\n",
              "      <th>0</th>\n",
              "      <td>420825</td>\n",
              "      <td>50578</td>\n",
              "      <td>58400</td>\n",
              "      <td>89.55</td>\n",
              "      <td>67</td>\n",
              "      <td>22807</td>\n",
              "      <td>45</td>\n",
              "      <td>1441</td>\n",
              "      <td>01-01-84</td>\n",
              "      <td>2</td>\n",
              "      <td>...</td>\n",
              "      <td>0</td>\n",
              "      <td>0</td>\n",
              "      <td>0</td>\n",
              "      <td>0</td>\n",
              "      <td>0</td>\n",
              "      <td>0</td>\n",
              "      <td>0</td>\n",
              "      <td>0yrs 0mon</td>\n",
              "      <td>0yrs 0mon</td>\n",
              "      <td>0</td>\n",
              "    </tr>\n",
              "    <tr>\n",
              "      <th>1</th>\n",
              "      <td>537409</td>\n",
              "      <td>47145</td>\n",
              "      <td>65550</td>\n",
              "      <td>73.23</td>\n",
              "      <td>67</td>\n",
              "      <td>22807</td>\n",
              "      <td>45</td>\n",
              "      <td>1502</td>\n",
              "      <td>31-07-85</td>\n",
              "      <td>1</td>\n",
              "      <td>...</td>\n",
              "      <td>0</td>\n",
              "      <td>0</td>\n",
              "      <td>0</td>\n",
              "      <td>1991</td>\n",
              "      <td>0</td>\n",
              "      <td>0</td>\n",
              "      <td>1</td>\n",
              "      <td>1yrs 11mon</td>\n",
              "      <td>1yrs 11mon</td>\n",
              "      <td>0</td>\n",
              "    </tr>\n",
              "    <tr>\n",
              "      <th>2</th>\n",
              "      <td>417566</td>\n",
              "      <td>53278</td>\n",
              "      <td>61360</td>\n",
              "      <td>89.63</td>\n",
              "      <td>67</td>\n",
              "      <td>22807</td>\n",
              "      <td>45</td>\n",
              "      <td>1497</td>\n",
              "      <td>24-08-85</td>\n",
              "      <td>1</td>\n",
              "      <td>...</td>\n",
              "      <td>0</td>\n",
              "      <td>0</td>\n",
              "      <td>0</td>\n",
              "      <td>0</td>\n",
              "      <td>0</td>\n",
              "      <td>0</td>\n",
              "      <td>0</td>\n",
              "      <td>0yrs 0mon</td>\n",
              "      <td>0yrs 0mon</td>\n",
              "      <td>0</td>\n",
              "    </tr>\n",
              "    <tr>\n",
              "      <th>3</th>\n",
              "      <td>624493</td>\n",
              "      <td>57513</td>\n",
              "      <td>66113</td>\n",
              "      <td>88.48</td>\n",
              "      <td>67</td>\n",
              "      <td>22807</td>\n",
              "      <td>45</td>\n",
              "      <td>1501</td>\n",
              "      <td>30-12-93</td>\n",
              "      <td>1</td>\n",
              "      <td>...</td>\n",
              "      <td>0</td>\n",
              "      <td>0</td>\n",
              "      <td>0</td>\n",
              "      <td>31</td>\n",
              "      <td>0</td>\n",
              "      <td>0</td>\n",
              "      <td>0</td>\n",
              "      <td>0yrs 8mon</td>\n",
              "      <td>1yrs 3mon</td>\n",
              "      <td>1</td>\n",
              "    </tr>\n",
              "    <tr>\n",
              "      <th>4</th>\n",
              "      <td>539055</td>\n",
              "      <td>52378</td>\n",
              "      <td>60300</td>\n",
              "      <td>88.39</td>\n",
              "      <td>67</td>\n",
              "      <td>22807</td>\n",
              "      <td>45</td>\n",
              "      <td>1495</td>\n",
              "      <td>09-12-77</td>\n",
              "      <td>1</td>\n",
              "      <td>...</td>\n",
              "      <td>0</td>\n",
              "      <td>0</td>\n",
              "      <td>0</td>\n",
              "      <td>0</td>\n",
              "      <td>0</td>\n",
              "      <td>0</td>\n",
              "      <td>0</td>\n",
              "      <td>0yrs 0mon</td>\n",
              "      <td>0yrs 0mon</td>\n",
              "      <td>1</td>\n",
              "    </tr>\n",
              "  </tbody>\n",
              "</table>\n",
              "<p>5 rows × 40 columns</p>\n",
              "</div>"
            ],
            "text/plain": [
              "   UniqueID  disbursed_amount  asset_cost    ltv  branch_id  supplier_id  \\\n",
              "0    420825             50578       58400  89.55         67        22807   \n",
              "1    537409             47145       65550  73.23         67        22807   \n",
              "2    417566             53278       61360  89.63         67        22807   \n",
              "3    624493             57513       66113  88.48         67        22807   \n",
              "4    539055             52378       60300  88.39         67        22807   \n",
              "\n",
              "   manufacturer_id  Current_pincode_ID Date.of.Birth  Employment.Type  \\\n",
              "0               45                1441      01-01-84                2   \n",
              "1               45                1502      31-07-85                1   \n",
              "2               45                1497      24-08-85                1   \n",
              "3               45                1501      30-12-93                1   \n",
              "4               45                1495      09-12-77                1   \n",
              "\n",
              "        ...        SEC.CURRENT.BALANCE  SEC.SANCTIONED.AMOUNT  \\\n",
              "0       ...                          0                      0   \n",
              "1       ...                          0                      0   \n",
              "2       ...                          0                      0   \n",
              "3       ...                          0                      0   \n",
              "4       ...                          0                      0   \n",
              "\n",
              "   SEC.DISBURSED.AMOUNT  PRIMARY.INSTAL.AMT  SEC.INSTAL.AMT  \\\n",
              "0                     0                   0               0   \n",
              "1                     0                1991               0   \n",
              "2                     0                   0               0   \n",
              "3                     0                  31               0   \n",
              "4                     0                   0               0   \n",
              "\n",
              "   NEW.ACCTS.IN.LAST.SIX.MONTHS  DELINQUENT.ACCTS.IN.LAST.SIX.MONTHS  \\\n",
              "0                             0                                    0   \n",
              "1                             0                                    1   \n",
              "2                             0                                    0   \n",
              "3                             0                                    0   \n",
              "4                             0                                    0   \n",
              "\n",
              "   AVERAGE.ACCT.AGE  CREDIT.HISTORY.LENGTH  NO.OF_INQUIRIES  \n",
              "0         0yrs 0mon              0yrs 0mon                0  \n",
              "1        1yrs 11mon             1yrs 11mon                0  \n",
              "2         0yrs 0mon              0yrs 0mon                0  \n",
              "3         0yrs 8mon              1yrs 3mon                1  \n",
              "4         0yrs 0mon              0yrs 0mon                1  \n",
              "\n",
              "[5 rows x 40 columns]"
            ]
          },
          "metadata": {
            "tags": []
          },
          "execution_count": 377
        }
      ]
    },
    {
      "metadata": {
        "id": "_iLb2ng9HJL8",
        "colab_type": "code",
        "colab": {}
      },
      "cell_type": "code",
      "source": [
        ""
      ],
      "execution_count": 0,
      "outputs": []
    },
    {
      "metadata": {
        "id": "yKR7PLGtE9l8",
        "colab_type": "code",
        "outputId": "97ffd7ba-6ba8-463e-ab18-a22a6ec07438",
        "colab": {
          "base_uri": "https://localhost:8080/",
          "height": 399
        }
      },
      "cell_type": "code",
      "source": [
        "#let's check the Bureau score description\n",
        "\n",
        "total_data['PERFORM_CNS.SCORE.DESCRIPTION'].value_counts()"
      ],
      "execution_count": 0,
      "outputs": [
        {
          "output_type": "execute_result",
          "data": {
            "text/plain": [
              "No Bureau History Available                                174843\n",
              "C-Very Low Risk                                             23870\n",
              "A-Very Low Risk                                             21683\n",
              "D-Very Low Risk                                             16472\n",
              "B-Very Low Risk                                             13696\n",
              "M-Very High Risk                                            12808\n",
              "F-Low Risk                                                  12176\n",
              "K-High Risk                                                 12141\n",
              "H-Medium Risk                                               10142\n",
              "E-Low Risk                                                   8393\n",
              "I-Medium Risk                                                8260\n",
              "G-Low Risk                                                   5795\n",
              "J-High Risk                                                  5526\n",
              "Not Scored: Sufficient History Not Available                 5025\n",
              "Not Scored: Not Enough Info available on the customer        4940\n",
              "Not Scored: No Activity seen on the customer (Inactive)      4246\n",
              "Not Scored: No Updates available in last 36 months           2299\n",
              "L-Very High Risk                                             1782\n",
              "Not Scored: Only a Guarantor                                 1446\n",
              "Not Scored: More than 50 active Accounts found                  3\n",
              "Name: PERFORM_CNS.SCORE.DESCRIPTION, dtype: int64"
            ]
          },
          "metadata": {
            "tags": []
          },
          "execution_count": 378
        }
      ]
    },
    {
      "metadata": {
        "id": "jhBJi-K-FK15",
        "colab_type": "code",
        "colab": {}
      },
      "cell_type": "code",
      "source": [
        "#it's better to encode these scores, so that our model can perform better\n",
        "#we can manually encode data with no history/not scored as 0 and increment by 1 for rest of the risks\n",
        "\n",
        "\n",
        "total_data['PERFORM_CNS.SCORE.DESCRIPTION'] = total_data['PERFORM_CNS.SCORE.DESCRIPTION'].replace('No Bureau History Available', 0)\n",
        "total_data['PERFORM_CNS.SCORE.DESCRIPTION'] = total_data['PERFORM_CNS.SCORE.DESCRIPTION'].replace('Not Scored: Sufficient History Not Available', 0)\n",
        "total_data['PERFORM_CNS.SCORE.DESCRIPTION'] = total_data['PERFORM_CNS.SCORE.DESCRIPTION'].replace('Not Scored: Not Enough Info available on the customer', 0)\n",
        "total_data['PERFORM_CNS.SCORE.DESCRIPTION'] = total_data['PERFORM_CNS.SCORE.DESCRIPTION'].replace('Not Scored: No Activity seen on the customer (Inactive)',0)\n",
        "total_data['PERFORM_CNS.SCORE.DESCRIPTION'] = total_data['PERFORM_CNS.SCORE.DESCRIPTION'].replace('Not Scored: No Updates available in last 36 months', 0)\n",
        "total_data['PERFORM_CNS.SCORE.DESCRIPTION'] = total_data['PERFORM_CNS.SCORE.DESCRIPTION'].replace('Not Scored: Only a Guarantor', 0)\n",
        "total_data['PERFORM_CNS.SCORE.DESCRIPTION'] = total_data['PERFORM_CNS.SCORE.DESCRIPTION'].replace('Not Scored: More than 50 active Accounts found',0)\n",
        "total_data['PERFORM_CNS.SCORE.DESCRIPTION'] = total_data['PERFORM_CNS.SCORE.DESCRIPTION'].replace('M-Very High Risk', 1)\n",
        "total_data['PERFORM_CNS.SCORE.DESCRIPTION'] = total_data['PERFORM_CNS.SCORE.DESCRIPTION'].replace('L-Very High Risk', 2)\n",
        "total_data['PERFORM_CNS.SCORE.DESCRIPTION'] = total_data['PERFORM_CNS.SCORE.DESCRIPTION'].replace('K-High Risk', 3)\n",
        "total_data['PERFORM_CNS.SCORE.DESCRIPTION'] = total_data['PERFORM_CNS.SCORE.DESCRIPTION'].replace('J-High Risk', 4)\n",
        "total_data['PERFORM_CNS.SCORE.DESCRIPTION'] = total_data['PERFORM_CNS.SCORE.DESCRIPTION'].replace('I-Medium Risk', 5)\n",
        "total_data['PERFORM_CNS.SCORE.DESCRIPTION'] = total_data['PERFORM_CNS.SCORE.DESCRIPTION'].replace('H-Medium Risk', 6)\n",
        "total_data['PERFORM_CNS.SCORE.DESCRIPTION'] = total_data['PERFORM_CNS.SCORE.DESCRIPTION'].replace('G-Low Risk', 7)\n",
        "total_data['PERFORM_CNS.SCORE.DESCRIPTION'] = total_data['PERFORM_CNS.SCORE.DESCRIPTION'].replace('F-Low Risk', 8)\n",
        "total_data['PERFORM_CNS.SCORE.DESCRIPTION'] = total_data['PERFORM_CNS.SCORE.DESCRIPTION'].replace('E-Low Risk', 9)\n",
        "total_data['PERFORM_CNS.SCORE.DESCRIPTION'] = total_data['PERFORM_CNS.SCORE.DESCRIPTION'].replace('D-Very Low Risk', 10)\n",
        "total_data['PERFORM_CNS.SCORE.DESCRIPTION'] = total_data['PERFORM_CNS.SCORE.DESCRIPTION'].replace('C-Very Low Risk', 11)\n",
        "total_data['PERFORM_CNS.SCORE.DESCRIPTION'] = total_data['PERFORM_CNS.SCORE.DESCRIPTION'].replace('B-Very Low Risk', 12)\n",
        "total_data['PERFORM_CNS.SCORE.DESCRIPTION'] = total_data['PERFORM_CNS.SCORE.DESCRIPTION'].replace('A-Very Low Risk', 13)"
      ],
      "execution_count": 0,
      "outputs": []
    },
    {
      "metadata": {
        "id": "rq1Pa1JfQSmq",
        "colab_type": "code",
        "outputId": "f9919904-78f0-43a2-a3ed-79030221da30",
        "colab": {
          "base_uri": "https://localhost:8080/",
          "height": 253
        }
      },
      "cell_type": "code",
      "source": [
        "#columns \n",
        "\n",
        "print(total_data.columns)\n",
        "\n"
      ],
      "execution_count": 0,
      "outputs": [
        {
          "output_type": "stream",
          "text": [
            "Index(['UniqueID', 'disbursed_amount', 'asset_cost', 'ltv', 'branch_id',\n",
            "       'supplier_id', 'manufacturer_id', 'Current_pincode_ID', 'Date.of.Birth',\n",
            "       'Employment.Type', 'DisbursalDate', 'State_ID', 'Employee_code_ID',\n",
            "       'MobileNo_Avl_Flag', 'Aadhar_flag', 'PAN_flag', 'VoterID_flag',\n",
            "       'Driving_flag', 'Passport_flag', 'PERFORM_CNS.SCORE',\n",
            "       'PERFORM_CNS.SCORE.DESCRIPTION', 'PRI.NO.OF.ACCTS', 'PRI.ACTIVE.ACCTS',\n",
            "       'PRI.OVERDUE.ACCTS', 'PRI.CURRENT.BALANCE', 'PRI.SANCTIONED.AMOUNT',\n",
            "       'PRI.DISBURSED.AMOUNT', 'SEC.NO.OF.ACCTS', 'SEC.ACTIVE.ACCTS',\n",
            "       'SEC.OVERDUE.ACCTS', 'SEC.CURRENT.BALANCE', 'SEC.SANCTIONED.AMOUNT',\n",
            "       'SEC.DISBURSED.AMOUNT', 'PRIMARY.INSTAL.AMT', 'SEC.INSTAL.AMT',\n",
            "       'NEW.ACCTS.IN.LAST.SIX.MONTHS', 'DELINQUENT.ACCTS.IN.LAST.SIX.MONTHS',\n",
            "       'AVERAGE.ACCT.AGE', 'CREDIT.HISTORY.LENGTH', 'NO.OF_INQUIRIES'],\n",
            "      dtype='object')\n"
          ],
          "name": "stdout"
        }
      ]
    },
    {
      "metadata": {
        "id": "xNqETI9qHLn5",
        "colab_type": "code",
        "colab": {}
      },
      "cell_type": "code",
      "source": [
        "total_data['DisbursalDate'] = pd.to_datetime(total_data['DisbursalDate'], errors = 'coerce')\n",
        "total_data['DisbursalMonth'] = total_data['DisbursalDate'].dt.month\n",
        "total_data['DisbursalDate']=total_data['DisbursalMonth']\n"
      ],
      "execution_count": 0,
      "outputs": []
    },
    {
      "metadata": {
        "id": "wYAFQSNBHyWZ",
        "colab_type": "code",
        "outputId": "77823663-a8c5-436b-cfc2-a42a5317b1d0",
        "colab": {
          "base_uri": "https://localhost:8080/",
          "height": 329
        }
      },
      "cell_type": "code",
      "source": [
        "sns.set(style=\"darkgrid\")\n",
        "sns.countplot(total_data['DisbursalMonth'])\n",
        "plt.title('Months', fontsize = 50)\n",
        "plt.show()"
      ],
      "execution_count": 0,
      "outputs": [
        {
          "output_type": "display_data",
          "data": {
            "image/png": "[encoded data removed]",
            "text/plain": [
              "<Figure size 432x288 with 1 Axes>"
            ]
          },
          "metadata": {
            "tags": []
          }
        }
      ]
    },
    {
      "metadata": {
        "id": "aq7oPNW_QSr4",
        "colab_type": "code",
        "colab": {}
      },
      "cell_type": "code",
      "source": [
        "\n",
        "#remove irrelevant columns from the final data\n",
        "\n",
        "total_data= total_data.drop(['UniqueID', 'supplier_id', 'Current_pincode_ID', 'Date.of.Birth','Employee_code_ID'],axis=1)\n"
      ],
      "execution_count": 0,
      "outputs": []
    },
    {
      "metadata": {
        "id": "ULUJXj8BQKEI",
        "colab_type": "code",
        "colab": {}
      },
      "cell_type": "code",
      "source": [
        "#convert columns that should be cataagorical data rather than integer\n",
        "\n",
        "total_data['branch_id'] = total_data['branch_id'].astype('category')\n",
        "\n",
        "total_data['manufacturer_id'] = total_data['manufacturer_id'].astype('category')\n",
        "\n",
        "total_data['State_ID'] = total_data['State_ID'].astype('category')"
      ],
      "execution_count": 0,
      "outputs": []
    },
    {
      "metadata": {
        "id": "EXY2FBHjQSvK",
        "colab_type": "code",
        "outputId": "e4257d49-f1b7-42f4-c67c-cedb0152baa6",
        "colab": {
          "base_uri": "https://localhost:8080/",
          "height": 235
        }
      },
      "cell_type": "code",
      "source": [
        "print(total_data.columns)"
      ],
      "execution_count": 0,
      "outputs": [
        {
          "output_type": "stream",
          "text": [
            "Index(['disbursed_amount', 'asset_cost', 'ltv', 'branch_id', 'manufacturer_id',\n",
            "       'Employment.Type', 'DisbursalDate', 'State_ID', 'MobileNo_Avl_Flag',\n",
            "       'Aadhar_flag', 'PAN_flag', 'VoterID_flag', 'Driving_flag',\n",
            "       'Passport_flag', 'PERFORM_CNS.SCORE', 'PERFORM_CNS.SCORE.DESCRIPTION',\n",
            "       'PRI.NO.OF.ACCTS', 'PRI.ACTIVE.ACCTS', 'PRI.OVERDUE.ACCTS',\n",
            "       'PRI.CURRENT.BALANCE', 'PRI.SANCTIONED.AMOUNT', 'PRI.DISBURSED.AMOUNT',\n",
            "       'SEC.NO.OF.ACCTS', 'SEC.ACTIVE.ACCTS', 'SEC.OVERDUE.ACCTS',\n",
            "       'SEC.CURRENT.BALANCE', 'SEC.SANCTIONED.AMOUNT', 'SEC.DISBURSED.AMOUNT',\n",
            "       'PRIMARY.INSTAL.AMT', 'SEC.INSTAL.AMT', 'NEW.ACCTS.IN.LAST.SIX.MONTHS',\n",
            "       'DELINQUENT.ACCTS.IN.LAST.SIX.MONTHS', 'AVERAGE.ACCT.AGE',\n",
            "       'CREDIT.HISTORY.LENGTH', 'NO.OF_INQUIRIES', 'DisbursalMonth'],\n",
            "      dtype='object')\n"
          ],
          "name": "stdout"
        }
      ]
    },
    {
      "metadata": {
        "id": "_gCvgyNpQSyd",
        "colab_type": "code",
        "colab": {}
      },
      "cell_type": "code",
      "source": [
        "#Let's visulaize first 3 columns"
      ],
      "execution_count": 0,
      "outputs": []
    },
    {
      "metadata": {
        "id": "M8zx9WQVPISl",
        "colab_type": "code",
        "outputId": "826459c7-8502-421a-bede-d894e0543449",
        "colab": {
          "base_uri": "https://localhost:8080/",
          "height": 301
        }
      },
      "cell_type": "code",
      "source": [
        "plt.subplot(1, 3, 1)\n",
        "sns.distplot(total_data['disbursed_amount'],  color = 'blue')\n",
        "plt.title('disbursed_amount')\n",
        "\n",
        "\n",
        "plt.subplot(1, 3, 2)\n",
        "sns.distplot(total_data['asset_cost'], color = 'red')\n",
        "plt.title('asset_cost')\n",
        "\n",
        "plt.subplot(1, 3, 3)\n",
        "sns.distplot(total_data['ltv'], color = 'green')\n",
        "plt.title('ltv')\n",
        "\n",
        "plt.show()"
      ],
      "execution_count": 0,
      "outputs": [
        {
          "output_type": "display_data",
          "data": {
            "image/png": "[encoded data removed]",
            "text/plain": [
              "<Figure size 432x288 with 3 Axes>"
            ]
          },
          "metadata": {
            "tags": []
          }
        }
      ]
    },
    {
      "metadata": {
        "id": "d2EwSZIZQaN8",
        "colab_type": "code",
        "colab": {}
      },
      "cell_type": "code",
      "source": [
        "#it's better to normalise these columns as the normal distributed data are convenient in analysing the model.\n",
        "#Log-normal distribution\n",
        "\n",
        "total_data['disbursed_amount'] = np.log1p(total_data['disbursed_amount'])\n",
        "\n",
        "total_data['asset_cost'] = np.log1p(total_data['asset_cost'])\n",
        "\n",
        "total_data['ltv'] = np.log1p(total_data['ltv'])\n",
        "\n"
      ],
      "execution_count": 0,
      "outputs": []
    },
    {
      "metadata": {
        "id": "L0pJo2sQs7_z",
        "colab_type": "code",
        "colab": {}
      },
      "cell_type": "code",
      "source": [
        "#similarly normalise PRIMARY.INSTAL.AMT , SEC.INSTAL.AMT columns\n",
        "\n",
        "total_data['PRIMARY.INSTAL.AMT'] = np.log1p(total_data['PRIMARY.INSTAL.AMT'])\n",
        "total_data['SEC.INSTAL.AMT'] = np.log1p(total_data['SEC.INSTAL.AMT'])\n"
      ],
      "execution_count": 0,
      "outputs": []
    },
    {
      "metadata": {
        "id": "sGoj4ZxORQqq",
        "colab_type": "code",
        "outputId": "c643282e-deda-4e77-dbf6-ea55c439f89e",
        "colab": {
          "base_uri": "https://localhost:8080/",
          "height": 255
        }
      },
      "cell_type": "code",
      "source": [
        "total_data.head()"
      ],
      "execution_count": 0,
      "outputs": [
        {
          "output_type": "execute_result",
          "data": {
            "text/html": [
              "<div>\n",
              "<style scoped>\n",
              "    .dataframe tbody tr th:only-of-type {\n",
              "        vertical-align: middle;\n",
              "    }\n",
              "\n",
              "    .dataframe tbody tr th {\n",
              "        vertical-align: top;\n",
              "    }\n",
              "\n",
              "    .dataframe thead th {\n",
              "        text-align: right;\n",
              "    }\n",
              "</style>\n",
              "<table border=\"1\" class=\"dataframe\">\n",
              "  <thead>\n",
              "    <tr style=\"text-align: right;\">\n",
              "      <th></th>\n",
              "      <th>disbursed_amount</th>\n",
              "      <th>asset_cost</th>\n",
              "      <th>ltv</th>\n",
              "      <th>branch_id</th>\n",
              "      <th>manufacturer_id</th>\n",
              "      <th>Employment.Type</th>\n",
              "      <th>DisbursalDate</th>\n",
              "      <th>State_ID</th>\n",
              "      <th>MobileNo_Avl_Flag</th>\n",
              "      <th>Aadhar_flag</th>\n",
              "      <th>...</th>\n",
              "      <th>SEC.SANCTIONED.AMOUNT</th>\n",
              "      <th>SEC.DISBURSED.AMOUNT</th>\n",
              "      <th>PRIMARY.INSTAL.AMT</th>\n",
              "      <th>SEC.INSTAL.AMT</th>\n",
              "      <th>NEW.ACCTS.IN.LAST.SIX.MONTHS</th>\n",
              "      <th>DELINQUENT.ACCTS.IN.LAST.SIX.MONTHS</th>\n",
              "      <th>AVERAGE.ACCT.AGE</th>\n",
              "      <th>CREDIT.HISTORY.LENGTH</th>\n",
              "      <th>NO.OF_INQUIRIES</th>\n",
              "      <th>DisbursalMonth</th>\n",
              "    </tr>\n",
              "  </thead>\n",
              "  <tbody>\n",
              "    <tr>\n",
              "      <th>0</th>\n",
              "      <td>10.831292</td>\n",
              "      <td>10.975088</td>\n",
              "      <td>4.505902</td>\n",
              "      <td>67</td>\n",
              "      <td>45</td>\n",
              "      <td>2</td>\n",
              "      <td>3</td>\n",
              "      <td>6</td>\n",
              "      <td>1</td>\n",
              "      <td>1</td>\n",
              "      <td>...</td>\n",
              "      <td>0</td>\n",
              "      <td>0</td>\n",
              "      <td>0.000000</td>\n",
              "      <td>0.0</td>\n",
              "      <td>0</td>\n",
              "      <td>0</td>\n",
              "      <td>0yrs 0mon</td>\n",
              "      <td>0yrs 0mon</td>\n",
              "      <td>0</td>\n",
              "      <td>3</td>\n",
              "    </tr>\n",
              "    <tr>\n",
              "      <th>1</th>\n",
              "      <td>10.761004</td>\n",
              "      <td>11.090584</td>\n",
              "      <td>4.307168</td>\n",
              "      <td>67</td>\n",
              "      <td>45</td>\n",
              "      <td>1</td>\n",
              "      <td>9</td>\n",
              "      <td>6</td>\n",
              "      <td>1</td>\n",
              "      <td>1</td>\n",
              "      <td>...</td>\n",
              "      <td>0</td>\n",
              "      <td>0</td>\n",
              "      <td>7.596894</td>\n",
              "      <td>0.0</td>\n",
              "      <td>0</td>\n",
              "      <td>1</td>\n",
              "      <td>1yrs 11mon</td>\n",
              "      <td>1yrs 11mon</td>\n",
              "      <td>0</td>\n",
              "      <td>9</td>\n",
              "    </tr>\n",
              "    <tr>\n",
              "      <th>2</th>\n",
              "      <td>10.883298</td>\n",
              "      <td>11.024530</td>\n",
              "      <td>4.506785</td>\n",
              "      <td>67</td>\n",
              "      <td>45</td>\n",
              "      <td>1</td>\n",
              "      <td>1</td>\n",
              "      <td>6</td>\n",
              "      <td>1</td>\n",
              "      <td>1</td>\n",
              "      <td>...</td>\n",
              "      <td>0</td>\n",
              "      <td>0</td>\n",
              "      <td>0.000000</td>\n",
              "      <td>0.0</td>\n",
              "      <td>0</td>\n",
              "      <td>0</td>\n",
              "      <td>0yrs 0mon</td>\n",
              "      <td>0yrs 0mon</td>\n",
              "      <td>0</td>\n",
              "      <td>1</td>\n",
              "    </tr>\n",
              "    <tr>\n",
              "      <th>3</th>\n",
              "      <td>10.959784</td>\n",
              "      <td>11.099136</td>\n",
              "      <td>4.494015</td>\n",
              "      <td>67</td>\n",
              "      <td>45</td>\n",
              "      <td>1</td>\n",
              "      <td>10</td>\n",
              "      <td>6</td>\n",
              "      <td>1</td>\n",
              "      <td>1</td>\n",
              "      <td>...</td>\n",
              "      <td>0</td>\n",
              "      <td>0</td>\n",
              "      <td>3.465736</td>\n",
              "      <td>0.0</td>\n",
              "      <td>0</td>\n",
              "      <td>0</td>\n",
              "      <td>0yrs 8mon</td>\n",
              "      <td>1yrs 3mon</td>\n",
              "      <td>1</td>\n",
              "      <td>10</td>\n",
              "    </tr>\n",
              "    <tr>\n",
              "      <th>4</th>\n",
              "      <td>10.866261</td>\n",
              "      <td>11.007104</td>\n",
              "      <td>4.493009</td>\n",
              "      <td>67</td>\n",
              "      <td>45</td>\n",
              "      <td>1</td>\n",
              "      <td>9</td>\n",
              "      <td>6</td>\n",
              "      <td>1</td>\n",
              "      <td>1</td>\n",
              "      <td>...</td>\n",
              "      <td>0</td>\n",
              "      <td>0</td>\n",
              "      <td>0.000000</td>\n",
              "      <td>0.0</td>\n",
              "      <td>0</td>\n",
              "      <td>0</td>\n",
              "      <td>0yrs 0mon</td>\n",
              "      <td>0yrs 0mon</td>\n",
              "      <td>1</td>\n",
              "      <td>9</td>\n",
              "    </tr>\n",
              "  </tbody>\n",
              "</table>\n",
              "<p>5 rows × 36 columns</p>\n",
              "</div>"
            ],
            "text/plain": [
              "   disbursed_amount  asset_cost       ltv branch_id manufacturer_id  \\\n",
              "0         10.831292   10.975088  4.505902        67              45   \n",
              "1         10.761004   11.090584  4.307168        67              45   \n",
              "2         10.883298   11.024530  4.506785        67              45   \n",
              "3         10.959784   11.099136  4.494015        67              45   \n",
              "4         10.866261   11.007104  4.493009        67              45   \n",
              "\n",
              "   Employment.Type  DisbursalDate State_ID  MobileNo_Avl_Flag  Aadhar_flag  \\\n",
              "0                2              3        6                  1            1   \n",
              "1                1              9        6                  1            1   \n",
              "2                1              1        6                  1            1   \n",
              "3                1             10        6                  1            1   \n",
              "4                1              9        6                  1            1   \n",
              "\n",
              "        ...        SEC.SANCTIONED.AMOUNT  SEC.DISBURSED.AMOUNT  \\\n",
              "0       ...                            0                     0   \n",
              "1       ...                            0                     0   \n",
              "2       ...                            0                     0   \n",
              "3       ...                            0                     0   \n",
              "4       ...                            0                     0   \n",
              "\n",
              "   PRIMARY.INSTAL.AMT  SEC.INSTAL.AMT  NEW.ACCTS.IN.LAST.SIX.MONTHS  \\\n",
              "0            0.000000             0.0                             0   \n",
              "1            7.596894             0.0                             0   \n",
              "2            0.000000             0.0                             0   \n",
              "3            3.465736             0.0                             0   \n",
              "4            0.000000             0.0                             0   \n",
              "\n",
              "   DELINQUENT.ACCTS.IN.LAST.SIX.MONTHS  AVERAGE.ACCT.AGE  \\\n",
              "0                                    0         0yrs 0mon   \n",
              "1                                    1        1yrs 11mon   \n",
              "2                                    0         0yrs 0mon   \n",
              "3                                    0         0yrs 8mon   \n",
              "4                                    0         0yrs 0mon   \n",
              "\n",
              "   CREDIT.HISTORY.LENGTH  NO.OF_INQUIRIES  DisbursalMonth  \n",
              "0              0yrs 0mon                0               3  \n",
              "1             1yrs 11mon                0               9  \n",
              "2              0yrs 0mon                0               1  \n",
              "3              1yrs 3mon                1              10  \n",
              "4              0yrs 0mon                1               9  \n",
              "\n",
              "[5 rows x 36 columns]"
            ]
          },
          "metadata": {
            "tags": []
          },
          "execution_count": 390
        }
      ]
    },
    {
      "metadata": {
        "id": "uqlTIFJARQ68",
        "colab_type": "code",
        "colab": {}
      },
      "cell_type": "code",
      "source": [
        "#date-time data cleanings \n",
        "#as per famous conversion steps, transforming ddmmyy to yrs  \n",
        "#performing on columns Average loan tenure\n",
        "\n",
        "\n",
        "total_data['AVERAGE.ACCT.AGE'] = total_data['AVERAGE.ACCT.AGE'].apply(lambda x: x.split(' ')[0])\n",
        "total_data['AVERAGE.ACCT.AGE'] = total_data['AVERAGE.ACCT.AGE'].apply(lambda x: x.split('yrs')[0])\n",
        "\n",
        "#similarly for Time since first loan\n",
        "\n",
        "total_data['CREDIT.HISTORY.LENGTH'] = total_data['CREDIT.HISTORY.LENGTH'].apply(lambda x: x.split(' ')[0])\n",
        "total_data['CREDIT.HISTORY.LENGTH'] = total_data['CREDIT.HISTORY.LENGTH'].apply(lambda x: x.split('yrs')[0])"
      ],
      "execution_count": 0,
      "outputs": []
    },
    {
      "metadata": {
        "id": "t9iZpzPgRRFk",
        "colab_type": "code",
        "outputId": "d96e706b-e105-466a-a130-c2f0ada89ddc",
        "colab": {
          "base_uri": "https://localhost:8080/",
          "height": 255
        }
      },
      "cell_type": "code",
      "source": [
        "total_data.head()"
      ],
      "execution_count": 0,
      "outputs": [
        {
          "output_type": "execute_result",
          "data": {
            "text/html": [
              "<div>\n",
              "<style scoped>\n",
              "    .dataframe tbody tr th:only-of-type {\n",
              "        vertical-align: middle;\n",
              "    }\n",
              "\n",
              "    .dataframe tbody tr th {\n",
              "        vertical-align: top;\n",
              "    }\n",
              "\n",
              "    .dataframe thead th {\n",
              "        text-align: right;\n",
              "    }\n",
              "</style>\n",
              "<table border=\"1\" class=\"dataframe\">\n",
              "  <thead>\n",
              "    <tr style=\"text-align: right;\">\n",
              "      <th></th>\n",
              "      <th>disbursed_amount</th>\n",
              "      <th>asset_cost</th>\n",
              "      <th>ltv</th>\n",
              "      <th>branch_id</th>\n",
              "      <th>manufacturer_id</th>\n",
              "      <th>Employment.Type</th>\n",
              "      <th>DisbursalDate</th>\n",
              "      <th>State_ID</th>\n",
              "      <th>MobileNo_Avl_Flag</th>\n",
              "      <th>Aadhar_flag</th>\n",
              "      <th>...</th>\n",
              "      <th>SEC.SANCTIONED.AMOUNT</th>\n",
              "      <th>SEC.DISBURSED.AMOUNT</th>\n",
              "      <th>PRIMARY.INSTAL.AMT</th>\n",
              "      <th>SEC.INSTAL.AMT</th>\n",
              "      <th>NEW.ACCTS.IN.LAST.SIX.MONTHS</th>\n",
              "      <th>DELINQUENT.ACCTS.IN.LAST.SIX.MONTHS</th>\n",
              "      <th>AVERAGE.ACCT.AGE</th>\n",
              "      <th>CREDIT.HISTORY.LENGTH</th>\n",
              "      <th>NO.OF_INQUIRIES</th>\n",
              "      <th>DisbursalMonth</th>\n",
              "    </tr>\n",
              "  </thead>\n",
              "  <tbody>\n",
              "    <tr>\n",
              "      <th>0</th>\n",
              "      <td>10.831292</td>\n",
              "      <td>10.975088</td>\n",
              "      <td>4.505902</td>\n",
              "      <td>67</td>\n",
              "      <td>45</td>\n",
              "      <td>2</td>\n",
              "      <td>3</td>\n",
              "      <td>6</td>\n",
              "      <td>1</td>\n",
              "      <td>1</td>\n",
              "      <td>...</td>\n",
              "      <td>0</td>\n",
              "      <td>0</td>\n",
              "      <td>0.000000</td>\n",
              "      <td>0.0</td>\n",
              "      <td>0</td>\n",
              "      <td>0</td>\n",
              "      <td>0</td>\n",
              "      <td>0</td>\n",
              "      <td>0</td>\n",
              "      <td>3</td>\n",
              "    </tr>\n",
              "    <tr>\n",
              "      <th>1</th>\n",
              "      <td>10.761004</td>\n",
              "      <td>11.090584</td>\n",
              "      <td>4.307168</td>\n",
              "      <td>67</td>\n",
              "      <td>45</td>\n",
              "      <td>1</td>\n",
              "      <td>9</td>\n",
              "      <td>6</td>\n",
              "      <td>1</td>\n",
              "      <td>1</td>\n",
              "      <td>...</td>\n",
              "      <td>0</td>\n",
              "      <td>0</td>\n",
              "      <td>7.596894</td>\n",
              "      <td>0.0</td>\n",
              "      <td>0</td>\n",
              "      <td>1</td>\n",
              "      <td>1</td>\n",
              "      <td>1</td>\n",
              "      <td>0</td>\n",
              "      <td>9</td>\n",
              "    </tr>\n",
              "    <tr>\n",
              "      <th>2</th>\n",
              "      <td>10.883298</td>\n",
              "      <td>11.024530</td>\n",
              "      <td>4.506785</td>\n",
              "      <td>67</td>\n",
              "      <td>45</td>\n",
              "      <td>1</td>\n",
              "      <td>1</td>\n",
              "      <td>6</td>\n",
              "      <td>1</td>\n",
              "      <td>1</td>\n",
              "      <td>...</td>\n",
              "      <td>0</td>\n",
              "      <td>0</td>\n",
              "      <td>0.000000</td>\n",
              "      <td>0.0</td>\n",
              "      <td>0</td>\n",
              "      <td>0</td>\n",
              "      <td>0</td>\n",
              "      <td>0</td>\n",
              "      <td>0</td>\n",
              "      <td>1</td>\n",
              "    </tr>\n",
              "    <tr>\n",
              "      <th>3</th>\n",
              "      <td>10.959784</td>\n",
              "      <td>11.099136</td>\n",
              "      <td>4.494015</td>\n",
              "      <td>67</td>\n",
              "      <td>45</td>\n",
              "      <td>1</td>\n",
              "      <td>10</td>\n",
              "      <td>6</td>\n",
              "      <td>1</td>\n",
              "      <td>1</td>\n",
              "      <td>...</td>\n",
              "      <td>0</td>\n",
              "      <td>0</td>\n",
              "      <td>3.465736</td>\n",
              "      <td>0.0</td>\n",
              "      <td>0</td>\n",
              "      <td>0</td>\n",
              "      <td>0</td>\n",
              "      <td>1</td>\n",
              "      <td>1</td>\n",
              "      <td>10</td>\n",
              "    </tr>\n",
              "    <tr>\n",
              "      <th>4</th>\n",
              "      <td>10.866261</td>\n",
              "      <td>11.007104</td>\n",
              "      <td>4.493009</td>\n",
              "      <td>67</td>\n",
              "      <td>45</td>\n",
              "      <td>1</td>\n",
              "      <td>9</td>\n",
              "      <td>6</td>\n",
              "      <td>1</td>\n",
              "      <td>1</td>\n",
              "      <td>...</td>\n",
              "      <td>0</td>\n",
              "      <td>0</td>\n",
              "      <td>0.000000</td>\n",
              "      <td>0.0</td>\n",
              "      <td>0</td>\n",
              "      <td>0</td>\n",
              "      <td>0</td>\n",
              "      <td>0</td>\n",
              "      <td>1</td>\n",
              "      <td>9</td>\n",
              "    </tr>\n",
              "  </tbody>\n",
              "</table>\n",
              "<p>5 rows × 36 columns</p>\n",
              "</div>"
            ],
            "text/plain": [
              "   disbursed_amount  asset_cost       ltv branch_id manufacturer_id  \\\n",
              "0         10.831292   10.975088  4.505902        67              45   \n",
              "1         10.761004   11.090584  4.307168        67              45   \n",
              "2         10.883298   11.024530  4.506785        67              45   \n",
              "3         10.959784   11.099136  4.494015        67              45   \n",
              "4         10.866261   11.007104  4.493009        67              45   \n",
              "\n",
              "   Employment.Type  DisbursalDate State_ID  MobileNo_Avl_Flag  Aadhar_flag  \\\n",
              "0                2              3        6                  1            1   \n",
              "1                1              9        6                  1            1   \n",
              "2                1              1        6                  1            1   \n",
              "3                1             10        6                  1            1   \n",
              "4                1              9        6                  1            1   \n",
              "\n",
              "        ...        SEC.SANCTIONED.AMOUNT  SEC.DISBURSED.AMOUNT  \\\n",
              "0       ...                            0                     0   \n",
              "1       ...                            0                     0   \n",
              "2       ...                            0                     0   \n",
              "3       ...                            0                     0   \n",
              "4       ...                            0                     0   \n",
              "\n",
              "   PRIMARY.INSTAL.AMT  SEC.INSTAL.AMT  NEW.ACCTS.IN.LAST.SIX.MONTHS  \\\n",
              "0            0.000000             0.0                             0   \n",
              "1            7.596894             0.0                             0   \n",
              "2            0.000000             0.0                             0   \n",
              "3            3.465736             0.0                             0   \n",
              "4            0.000000             0.0                             0   \n",
              "\n",
              "   DELINQUENT.ACCTS.IN.LAST.SIX.MONTHS  AVERAGE.ACCT.AGE  \\\n",
              "0                                    0                 0   \n",
              "1                                    1                 1   \n",
              "2                                    0                 0   \n",
              "3                                    0                 0   \n",
              "4                                    0                 0   \n",
              "\n",
              "   CREDIT.HISTORY.LENGTH  NO.OF_INQUIRIES  DisbursalMonth  \n",
              "0                      0                0               3  \n",
              "1                      1                0               9  \n",
              "2                      0                0               1  \n",
              "3                      1                1              10  \n",
              "4                      0                1               9  \n",
              "\n",
              "[5 rows x 36 columns]"
            ]
          },
          "metadata": {
            "tags": []
          },
          "execution_count": 392
        }
      ]
    },
    {
      "metadata": {
        "id": "oWU3Z1ThSBn4",
        "colab_type": "code",
        "outputId": "99cd1c74-e800-4bf4-a632-d711ca5cbd4e",
        "colab": {
          "base_uri": "https://localhost:8080/",
          "height": 689
        }
      },
      "cell_type": "code",
      "source": [
        "total_data.isnull().sum()"
      ],
      "execution_count": 0,
      "outputs": [
        {
          "output_type": "execute_result",
          "data": {
            "text/plain": [
              "disbursed_amount                       0\n",
              "asset_cost                             0\n",
              "ltv                                    0\n",
              "branch_id                              0\n",
              "manufacturer_id                        0\n",
              "Employment.Type                        0\n",
              "DisbursalDate                          0\n",
              "State_ID                               0\n",
              "MobileNo_Avl_Flag                      0\n",
              "Aadhar_flag                            0\n",
              "PAN_flag                               0\n",
              "VoterID_flag                           0\n",
              "Driving_flag                           0\n",
              "Passport_flag                          0\n",
              "PERFORM_CNS.SCORE                      0\n",
              "PERFORM_CNS.SCORE.DESCRIPTION          0\n",
              "PRI.NO.OF.ACCTS                        0\n",
              "PRI.ACTIVE.ACCTS                       0\n",
              "PRI.OVERDUE.ACCTS                      0\n",
              "PRI.CURRENT.BALANCE                    0\n",
              "PRI.SANCTIONED.AMOUNT                  0\n",
              "PRI.DISBURSED.AMOUNT                   0\n",
              "SEC.NO.OF.ACCTS                        0\n",
              "SEC.ACTIVE.ACCTS                       0\n",
              "SEC.OVERDUE.ACCTS                      0\n",
              "SEC.CURRENT.BALANCE                    0\n",
              "SEC.SANCTIONED.AMOUNT                  0\n",
              "SEC.DISBURSED.AMOUNT                   0\n",
              "PRIMARY.INSTAL.AMT                     0\n",
              "SEC.INSTAL.AMT                         0\n",
              "NEW.ACCTS.IN.LAST.SIX.MONTHS           0\n",
              "DELINQUENT.ACCTS.IN.LAST.SIX.MONTHS    0\n",
              "AVERAGE.ACCT.AGE                       0\n",
              "CREDIT.HISTORY.LENGTH                  0\n",
              "NO.OF_INQUIRIES                        0\n",
              "DisbursalMonth                         0\n",
              "dtype: int64"
            ]
          },
          "metadata": {
            "tags": []
          },
          "execution_count": 393
        }
      ]
    },
    {
      "metadata": {
        "id": "WbtCAY1YdMX3",
        "colab_type": "code",
        "outputId": "b2649a72-d451-4628-ce2b-9bdb2d3e6fc9",
        "colab": {
          "base_uri": "https://localhost:8080/",
          "height": 689
        }
      },
      "cell_type": "code",
      "source": [
        "total_data.isnull().sum()"
      ],
      "execution_count": 0,
      "outputs": [
        {
          "output_type": "execute_result",
          "data": {
            "text/plain": [
              "disbursed_amount                       0\n",
              "asset_cost                             0\n",
              "ltv                                    0\n",
              "branch_id                              0\n",
              "manufacturer_id                        0\n",
              "Employment.Type                        0\n",
              "DisbursalDate                          0\n",
              "State_ID                               0\n",
              "MobileNo_Avl_Flag                      0\n",
              "Aadhar_flag                            0\n",
              "PAN_flag                               0\n",
              "VoterID_flag                           0\n",
              "Driving_flag                           0\n",
              "Passport_flag                          0\n",
              "PERFORM_CNS.SCORE                      0\n",
              "PERFORM_CNS.SCORE.DESCRIPTION          0\n",
              "PRI.NO.OF.ACCTS                        0\n",
              "PRI.ACTIVE.ACCTS                       0\n",
              "PRI.OVERDUE.ACCTS                      0\n",
              "PRI.CURRENT.BALANCE                    0\n",
              "PRI.SANCTIONED.AMOUNT                  0\n",
              "PRI.DISBURSED.AMOUNT                   0\n",
              "SEC.NO.OF.ACCTS                        0\n",
              "SEC.ACTIVE.ACCTS                       0\n",
              "SEC.OVERDUE.ACCTS                      0\n",
              "SEC.CURRENT.BALANCE                    0\n",
              "SEC.SANCTIONED.AMOUNT                  0\n",
              "SEC.DISBURSED.AMOUNT                   0\n",
              "PRIMARY.INSTAL.AMT                     0\n",
              "SEC.INSTAL.AMT                         0\n",
              "NEW.ACCTS.IN.LAST.SIX.MONTHS           0\n",
              "DELINQUENT.ACCTS.IN.LAST.SIX.MONTHS    0\n",
              "AVERAGE.ACCT.AGE                       0\n",
              "CREDIT.HISTORY.LENGTH                  0\n",
              "NO.OF_INQUIRIES                        0\n",
              "DisbursalMonth                         0\n",
              "dtype: int64"
            ]
          },
          "metadata": {
            "tags": []
          },
          "execution_count": 394
        }
      ]
    },
    {
      "metadata": {
        "id": "CmYfTMaZcUkC",
        "colab_type": "code",
        "colab": {}
      },
      "cell_type": "code",
      "source": [
        "#let's fill the missing data with the mean values\n",
        "total_data['SEC.CURRENT.BALANCE'].fillna(total_data['SEC.CURRENT.BALANCE'].mean(), inplace = True)\n",
        "total_data['PRI.SANCTIONED.AMOUNT'].fillna(total_data['PRI.SANCTIONED.AMOUNT'].mean(), inplace = True)\n",
        "total_data['PRI.CURRENT.BALANCE'].fillna(total_data['PRI.CURRENT.BALANCE'].mean(), inplace = True)"
      ],
      "execution_count": 0,
      "outputs": []
    },
    {
      "metadata": {
        "id": "SMvvS5OddRRP",
        "colab_type": "code",
        "outputId": "f2a3fcef-e78c-4deb-e4ff-4a7bd42ae90a",
        "colab": {
          "base_uri": "https://localhost:8080/",
          "height": 689
        }
      },
      "cell_type": "code",
      "source": [
        "total_data.isnull().sum()\n"
      ],
      "execution_count": 0,
      "outputs": [
        {
          "output_type": "execute_result",
          "data": {
            "text/plain": [
              "disbursed_amount                       0\n",
              "asset_cost                             0\n",
              "ltv                                    0\n",
              "branch_id                              0\n",
              "manufacturer_id                        0\n",
              "Employment.Type                        0\n",
              "DisbursalDate                          0\n",
              "State_ID                               0\n",
              "MobileNo_Avl_Flag                      0\n",
              "Aadhar_flag                            0\n",
              "PAN_flag                               0\n",
              "VoterID_flag                           0\n",
              "Driving_flag                           0\n",
              "Passport_flag                          0\n",
              "PERFORM_CNS.SCORE                      0\n",
              "PERFORM_CNS.SCORE.DESCRIPTION          0\n",
              "PRI.NO.OF.ACCTS                        0\n",
              "PRI.ACTIVE.ACCTS                       0\n",
              "PRI.OVERDUE.ACCTS                      0\n",
              "PRI.CURRENT.BALANCE                    0\n",
              "PRI.SANCTIONED.AMOUNT                  0\n",
              "PRI.DISBURSED.AMOUNT                   0\n",
              "SEC.NO.OF.ACCTS                        0\n",
              "SEC.ACTIVE.ACCTS                       0\n",
              "SEC.OVERDUE.ACCTS                      0\n",
              "SEC.CURRENT.BALANCE                    0\n",
              "SEC.SANCTIONED.AMOUNT                  0\n",
              "SEC.DISBURSED.AMOUNT                   0\n",
              "PRIMARY.INSTAL.AMT                     0\n",
              "SEC.INSTAL.AMT                         0\n",
              "NEW.ACCTS.IN.LAST.SIX.MONTHS           0\n",
              "DELINQUENT.ACCTS.IN.LAST.SIX.MONTHS    0\n",
              "AVERAGE.ACCT.AGE                       0\n",
              "CREDIT.HISTORY.LENGTH                  0\n",
              "NO.OF_INQUIRIES                        0\n",
              "DisbursalMonth                         0\n",
              "dtype: int64"
            ]
          },
          "metadata": {
            "tags": []
          },
          "execution_count": 396
        }
      ]
    },
    {
      "metadata": {
        "id": "YLJqmPWSl19p",
        "colab_type": "code",
        "colab": {}
      },
      "cell_type": "code",
      "source": [
        ""
      ],
      "execution_count": 0,
      "outputs": []
    },
    {
      "metadata": {
        "id": "VqmvkOudRRJL",
        "colab_type": "code",
        "colab": {}
      },
      "cell_type": "code",
      "source": [
        "from sklearn.preprocessing import LabelEncoder\n",
        "\n",
        "lenco = LabelEncoder()\n",
        "total_data['branch_id'] = lenco.fit_transform(total_data['branch_id'])\n",
        "total_data['manufacturer_id'] = lenco.fit_transform(total_data['manufacturer_id'])\n",
        "total_data['State_ID'] = lenco.fit_transform(total_data['State_ID'])\n"
      ],
      "execution_count": 0,
      "outputs": []
    },
    {
      "metadata": {
        "id": "MT6MZP4TLjyC",
        "colab_type": "code",
        "outputId": "923d4824-eb08-4694-dc9e-7872c2c11f23",
        "colab": {
          "base_uri": "https://localhost:8080/",
          "height": 412
        }
      },
      "cell_type": "code",
      "source": [
        "#final look at the preprocessed data\n",
        "total_data.head(10)"
      ],
      "execution_count": 0,
      "outputs": [
        {
          "output_type": "execute_result",
          "data": {
            "text/html": [
              "<div>\n",
              "<style scoped>\n",
              "    .dataframe tbody tr th:only-of-type {\n",
              "        vertical-align: middle;\n",
              "    }\n",
              "\n",
              "    .dataframe tbody tr th {\n",
              "        vertical-align: top;\n",
              "    }\n",
              "\n",
              "    .dataframe thead th {\n",
              "        text-align: right;\n",
              "    }\n",
              "</style>\n",
              "<table border=\"1\" class=\"dataframe\">\n",
              "  <thead>\n",
              "    <tr style=\"text-align: right;\">\n",
              "      <th></th>\n",
              "      <th>disbursed_amount</th>\n",
              "      <th>asset_cost</th>\n",
              "      <th>ltv</th>\n",
              "      <th>branch_id</th>\n",
              "      <th>manufacturer_id</th>\n",
              "      <th>Employment.Type</th>\n",
              "      <th>DisbursalDate</th>\n",
              "      <th>State_ID</th>\n",
              "      <th>MobileNo_Avl_Flag</th>\n",
              "      <th>Aadhar_flag</th>\n",
              "      <th>...</th>\n",
              "      <th>SEC.SANCTIONED.AMOUNT</th>\n",
              "      <th>SEC.DISBURSED.AMOUNT</th>\n",
              "      <th>PRIMARY.INSTAL.AMT</th>\n",
              "      <th>SEC.INSTAL.AMT</th>\n",
              "      <th>NEW.ACCTS.IN.LAST.SIX.MONTHS</th>\n",
              "      <th>DELINQUENT.ACCTS.IN.LAST.SIX.MONTHS</th>\n",
              "      <th>AVERAGE.ACCT.AGE</th>\n",
              "      <th>CREDIT.HISTORY.LENGTH</th>\n",
              "      <th>NO.OF_INQUIRIES</th>\n",
              "      <th>DisbursalMonth</th>\n",
              "    </tr>\n",
              "  </thead>\n",
              "  <tbody>\n",
              "    <tr>\n",
              "      <th>0</th>\n",
              "      <td>10.831292</td>\n",
              "      <td>10.975088</td>\n",
              "      <td>4.505902</td>\n",
              "      <td>30</td>\n",
              "      <td>0</td>\n",
              "      <td>2</td>\n",
              "      <td>3</td>\n",
              "      <td>5</td>\n",
              "      <td>1</td>\n",
              "      <td>1</td>\n",
              "      <td>...</td>\n",
              "      <td>0</td>\n",
              "      <td>0</td>\n",
              "      <td>0.000000</td>\n",
              "      <td>0.0</td>\n",
              "      <td>0</td>\n",
              "      <td>0</td>\n",
              "      <td>0</td>\n",
              "      <td>0</td>\n",
              "      <td>0</td>\n",
              "      <td>3</td>\n",
              "    </tr>\n",
              "    <tr>\n",
              "      <th>1</th>\n",
              "      <td>10.761004</td>\n",
              "      <td>11.090584</td>\n",
              "      <td>4.307168</td>\n",
              "      <td>30</td>\n",
              "      <td>0</td>\n",
              "      <td>1</td>\n",
              "      <td>9</td>\n",
              "      <td>5</td>\n",
              "      <td>1</td>\n",
              "      <td>1</td>\n",
              "      <td>...</td>\n",
              "      <td>0</td>\n",
              "      <td>0</td>\n",
              "      <td>7.596894</td>\n",
              "      <td>0.0</td>\n",
              "      <td>0</td>\n",
              "      <td>1</td>\n",
              "      <td>1</td>\n",
              "      <td>1</td>\n",
              "      <td>0</td>\n",
              "      <td>9</td>\n",
              "    </tr>\n",
              "    <tr>\n",
              "      <th>2</th>\n",
              "      <td>10.883298</td>\n",
              "      <td>11.024530</td>\n",
              "      <td>4.506785</td>\n",
              "      <td>30</td>\n",
              "      <td>0</td>\n",
              "      <td>1</td>\n",
              "      <td>1</td>\n",
              "      <td>5</td>\n",
              "      <td>1</td>\n",
              "      <td>1</td>\n",
              "      <td>...</td>\n",
              "      <td>0</td>\n",
              "      <td>0</td>\n",
              "      <td>0.000000</td>\n",
              "      <td>0.0</td>\n",
              "      <td>0</td>\n",
              "      <td>0</td>\n",
              "      <td>0</td>\n",
              "      <td>0</td>\n",
              "      <td>0</td>\n",
              "      <td>1</td>\n",
              "    </tr>\n",
              "    <tr>\n",
              "      <th>3</th>\n",
              "      <td>10.959784</td>\n",
              "      <td>11.099136</td>\n",
              "      <td>4.494015</td>\n",
              "      <td>30</td>\n",
              "      <td>0</td>\n",
              "      <td>1</td>\n",
              "      <td>10</td>\n",
              "      <td>5</td>\n",
              "      <td>1</td>\n",
              "      <td>1</td>\n",
              "      <td>...</td>\n",
              "      <td>0</td>\n",
              "      <td>0</td>\n",
              "      <td>3.465736</td>\n",
              "      <td>0.0</td>\n",
              "      <td>0</td>\n",
              "      <td>0</td>\n",
              "      <td>0</td>\n",
              "      <td>1</td>\n",
              "      <td>1</td>\n",
              "      <td>10</td>\n",
              "    </tr>\n",
              "    <tr>\n",
              "      <th>4</th>\n",
              "      <td>10.866261</td>\n",
              "      <td>11.007104</td>\n",
              "      <td>4.493009</td>\n",
              "      <td>30</td>\n",
              "      <td>0</td>\n",
              "      <td>1</td>\n",
              "      <td>9</td>\n",
              "      <td>5</td>\n",
              "      <td>1</td>\n",
              "      <td>1</td>\n",
              "      <td>...</td>\n",
              "      <td>0</td>\n",
              "      <td>0</td>\n",
              "      <td>0.000000</td>\n",
              "      <td>0.0</td>\n",
              "      <td>0</td>\n",
              "      <td>0</td>\n",
              "      <td>0</td>\n",
              "      <td>0</td>\n",
              "      <td>1</td>\n",
              "      <td>9</td>\n",
              "    </tr>\n",
              "    <tr>\n",
              "      <th>5</th>\n",
              "      <td>10.906213</td>\n",
              "      <td>11.033292</td>\n",
              "      <td>4.507116</td>\n",
              "      <td>30</td>\n",
              "      <td>0</td>\n",
              "      <td>1</td>\n",
              "      <td>9</td>\n",
              "      <td>5</td>\n",
              "      <td>1</td>\n",
              "      <td>1</td>\n",
              "      <td>...</td>\n",
              "      <td>0</td>\n",
              "      <td>0</td>\n",
              "      <td>7.206377</td>\n",
              "      <td>0.0</td>\n",
              "      <td>0</td>\n",
              "      <td>0</td>\n",
              "      <td>1</td>\n",
              "      <td>2</td>\n",
              "      <td>0</td>\n",
              "      <td>9</td>\n",
              "    </tr>\n",
              "    <tr>\n",
              "      <th>6</th>\n",
              "      <td>10.743977</td>\n",
              "      <td>11.026809</td>\n",
              "      <td>4.349245</td>\n",
              "      <td>30</td>\n",
              "      <td>0</td>\n",
              "      <td>2</td>\n",
              "      <td>9</td>\n",
              "      <td>5</td>\n",
              "      <td>1</td>\n",
              "      <td>1</td>\n",
              "      <td>...</td>\n",
              "      <td>0</td>\n",
              "      <td>0</td>\n",
              "      <td>0.000000</td>\n",
              "      <td>0.0</td>\n",
              "      <td>0</td>\n",
              "      <td>0</td>\n",
              "      <td>0</td>\n",
              "      <td>0</td>\n",
              "      <td>0</td>\n",
              "      <td>9</td>\n",
              "    </tr>\n",
              "    <tr>\n",
              "      <th>7</th>\n",
              "      <td>10.689556</td>\n",
              "      <td>11.033292</td>\n",
              "      <td>4.288951</td>\n",
              "      <td>30</td>\n",
              "      <td>0</td>\n",
              "      <td>2</td>\n",
              "      <td>9</td>\n",
              "      <td>5</td>\n",
              "      <td>1</td>\n",
              "      <td>1</td>\n",
              "      <td>...</td>\n",
              "      <td>0</td>\n",
              "      <td>0</td>\n",
              "      <td>0.000000</td>\n",
              "      <td>0.0</td>\n",
              "      <td>0</td>\n",
              "      <td>0</td>\n",
              "      <td>0</td>\n",
              "      <td>0</td>\n",
              "      <td>0</td>\n",
              "      <td>9</td>\n",
              "    </tr>\n",
              "    <tr>\n",
              "      <th>8</th>\n",
              "      <td>10.891429</td>\n",
              "      <td>11.034470</td>\n",
              "      <td>4.506013</td>\n",
              "      <td>30</td>\n",
              "      <td>0</td>\n",
              "      <td>1</td>\n",
              "      <td>5</td>\n",
              "      <td>5</td>\n",
              "      <td>1</td>\n",
              "      <td>1</td>\n",
              "      <td>...</td>\n",
              "      <td>0</td>\n",
              "      <td>0</td>\n",
              "      <td>0.000000</td>\n",
              "      <td>0.0</td>\n",
              "      <td>0</td>\n",
              "      <td>0</td>\n",
              "      <td>4</td>\n",
              "      <td>4</td>\n",
              "      <td>1</td>\n",
              "      <td>5</td>\n",
              "    </tr>\n",
              "    <tr>\n",
              "      <th>9</th>\n",
              "      <td>10.870547</td>\n",
              "      <td>11.023551</td>\n",
              "      <td>4.476768</td>\n",
              "      <td>30</td>\n",
              "      <td>0</td>\n",
              "      <td>2</td>\n",
              "      <td>9</td>\n",
              "      <td>5</td>\n",
              "      <td>1</td>\n",
              "      <td>0</td>\n",
              "      <td>...</td>\n",
              "      <td>0</td>\n",
              "      <td>0</td>\n",
              "      <td>7.866722</td>\n",
              "      <td>0.0</td>\n",
              "      <td>0</td>\n",
              "      <td>0</td>\n",
              "      <td>1</td>\n",
              "      <td>1</td>\n",
              "      <td>0</td>\n",
              "      <td>9</td>\n",
              "    </tr>\n",
              "  </tbody>\n",
              "</table>\n",
              "<p>10 rows × 36 columns</p>\n",
              "</div>"
            ],
            "text/plain": [
              "   disbursed_amount  asset_cost       ltv  branch_id  manufacturer_id  \\\n",
              "0         10.831292   10.975088  4.505902         30                0   \n",
              "1         10.761004   11.090584  4.307168         30                0   \n",
              "2         10.883298   11.024530  4.506785         30                0   \n",
              "3         10.959784   11.099136  4.494015         30                0   \n",
              "4         10.866261   11.007104  4.493009         30                0   \n",
              "5         10.906213   11.033292  4.507116         30                0   \n",
              "6         10.743977   11.026809  4.349245         30                0   \n",
              "7         10.689556   11.033292  4.288951         30                0   \n",
              "8         10.891429   11.034470  4.506013         30                0   \n",
              "9         10.870547   11.023551  4.476768         30                0   \n",
              "\n",
              "   Employment.Type  DisbursalDate  State_ID  MobileNo_Avl_Flag  Aadhar_flag  \\\n",
              "0                2              3         5                  1            1   \n",
              "1                1              9         5                  1            1   \n",
              "2                1              1         5                  1            1   \n",
              "3                1             10         5                  1            1   \n",
              "4                1              9         5                  1            1   \n",
              "5                1              9         5                  1            1   \n",
              "6                2              9         5                  1            1   \n",
              "7                2              9         5                  1            1   \n",
              "8                1              5         5                  1            1   \n",
              "9                2              9         5                  1            0   \n",
              "\n",
              "        ...        SEC.SANCTIONED.AMOUNT  SEC.DISBURSED.AMOUNT  \\\n",
              "0       ...                            0                     0   \n",
              "1       ...                            0                     0   \n",
              "2       ...                            0                     0   \n",
              "3       ...                            0                     0   \n",
              "4       ...                            0                     0   \n",
              "5       ...                            0                     0   \n",
              "6       ...                            0                     0   \n",
              "7       ...                            0                     0   \n",
              "8       ...                            0                     0   \n",
              "9       ...                            0                     0   \n",
              "\n",
              "   PRIMARY.INSTAL.AMT  SEC.INSTAL.AMT  NEW.ACCTS.IN.LAST.SIX.MONTHS  \\\n",
              "0            0.000000             0.0                             0   \n",
              "1            7.596894             0.0                             0   \n",
              "2            0.000000             0.0                             0   \n",
              "3            3.465736             0.0                             0   \n",
              "4            0.000000             0.0                             0   \n",
              "5            7.206377             0.0                             0   \n",
              "6            0.000000             0.0                             0   \n",
              "7            0.000000             0.0                             0   \n",
              "8            0.000000             0.0                             0   \n",
              "9            7.866722             0.0                             0   \n",
              "\n",
              "   DELINQUENT.ACCTS.IN.LAST.SIX.MONTHS  AVERAGE.ACCT.AGE  \\\n",
              "0                                    0                 0   \n",
              "1                                    1                 1   \n",
              "2                                    0                 0   \n",
              "3                                    0                 0   \n",
              "4                                    0                 0   \n",
              "5                                    0                 1   \n",
              "6                                    0                 0   \n",
              "7                                    0                 0   \n",
              "8                                    0                 4   \n",
              "9                                    0                 1   \n",
              "\n",
              "   CREDIT.HISTORY.LENGTH  NO.OF_INQUIRIES  DisbursalMonth  \n",
              "0                      0                0               3  \n",
              "1                      1                0               9  \n",
              "2                      0                0               1  \n",
              "3                      1                1              10  \n",
              "4                      0                1               9  \n",
              "5                      2                0               9  \n",
              "6                      0                0               9  \n",
              "7                      0                0               9  \n",
              "8                      4                1               5  \n",
              "9                      1                0               9  \n",
              "\n",
              "[10 rows x 36 columns]"
            ]
          },
          "metadata": {
            "tags": []
          },
          "execution_count": 398
        }
      ]
    },
    {
      "metadata": {
        "id": "r0pAMGRjaO4S",
        "colab_type": "code",
        "colab": {}
      },
      "cell_type": "code",
      "source": [
        "\n"
      ],
      "execution_count": 0,
      "outputs": []
    },
    {
      "metadata": {
        "id": "Tqtt8Wk5PKc6",
        "colab_type": "code",
        "colab": {}
      },
      "cell_type": "code",
      "source": [
        "#training and test datasets back\n",
        "\n",
        "\n",
        "x_train = total_data.iloc[:233154,:]\n",
        "x_test = total_data.iloc[233154:,:]\n"
      ],
      "execution_count": 0,
      "outputs": []
    },
    {
      "metadata": {
        "id": "M_P2Jl3FNMK8",
        "colab_type": "code",
        "outputId": "533d0127-06b7-440d-8099-09247c6d6700",
        "colab": {
          "base_uri": "https://localhost:8080/",
          "height": 72
        }
      },
      "cell_type": "code",
      "source": [
        "y_train.value_counts()"
      ],
      "execution_count": 0,
      "outputs": [
        {
          "output_type": "execute_result",
          "data": {
            "text/plain": [
              "0    182543\n",
              "1     50611\n",
              "Name: loan_default, dtype: int64"
            ]
          },
          "metadata": {
            "tags": []
          },
          "execution_count": 400
        }
      ]
    },
    {
      "metadata": {
        "id": "hr0UZQkqRD7J",
        "colab_type": "code",
        "colab": {}
      },
      "cell_type": "code",
      "source": [
        "\n",
        "from sklearn.model_selection import train_test_split\n",
        "\n",
        "x_train, x_val, y_train, y_val = train_test_split(x_train, y_train, test_size = 0.2, random_state = 0)\n",
        "\n"
      ],
      "execution_count": 0,
      "outputs": []
    },
    {
      "metadata": {
        "id": "Ak-H4kANh-_e",
        "colab_type": "code",
        "outputId": "6fe215f6-725e-475e-bd7a-feb0362637c2",
        "colab": {
          "base_uri": "https://localhost:8080/",
          "height": 90
        }
      },
      "cell_type": "code",
      "source": [
        "# checking the shapes\n",
        "print(x_train.shape)\n",
        "print(y_train.shape)\n",
        "print(x_val.shape)\n",
        "print(y_val.shape)"
      ],
      "execution_count": 0,
      "outputs": [
        {
          "output_type": "stream",
          "text": [
            "(186523, 36)\n",
            "(186523,)\n",
            "(46631, 36)\n",
            "(46631,)\n"
          ],
          "name": "stdout"
        }
      ]
    },
    {
      "metadata": {
        "id": "uULsdjJVVCw-",
        "colab_type": "code",
        "colab": {}
      },
      "cell_type": "code",
      "source": [
        "from sklearn.preprocessing import StandardScaler\n",
        "\n",
        "sc = StandardScaler()\n",
        "x_train = sc.fit_transform(x_train)\n",
        "x_val = sc.transform(x_val)\n",
        "x_test = sc.transform(x_test)"
      ],
      "execution_count": 0,
      "outputs": []
    },
    {
      "metadata": {
        "id": "MD692cJmVq7K",
        "colab_type": "code",
        "colab": {}
      },
      "cell_type": "code",
      "source": [
        ""
      ],
      "execution_count": 0,
      "outputs": []
    },
    {
      "metadata": {
        "id": "DkigYDG0O8Y_",
        "colab_type": "code",
        "outputId": "831268f9-e41b-4237-c731-6f2f52368efe",
        "colab": {
          "base_uri": "https://localhost:8080/",
          "height": 53
        }
      },
      "cell_type": "code",
      "source": [
        "\n",
        "#let's check with Random Forest Classifier\n",
        "\n",
        "from sklearn.ensemble import RandomForestClassifier\n",
        "classifier = RandomForestClassifier(random_state=0, n_estimators=100, criterion = 'entropy')\n",
        "classifier.fit(x_train, y_train)\n",
        "y_pred = classifier.predict(x_val)\n",
        "\n",
        "print(\"Training Accuracy: \", classifier.score(x_train, y_train))\n",
        "print('Testing Accuarcy: ', classifier.score(x_val, y_val))\n",
        "\n"
      ],
      "execution_count": 0,
      "outputs": [
        {
          "output_type": "stream",
          "text": [
            "Training Accuracy:  0.9968100448738225\n",
            "Testing Accuarcy:  0.7759859321052519\n"
          ],
          "name": "stdout"
        }
      ]
    },
    {
      "metadata": {
        "id": "-NTAW2LmO8mV",
        "colab_type": "code",
        "outputId": "2c9fada8-9806-4f28-d2d2-41a0d463570d",
        "colab": {
          "base_uri": "https://localhost:8080/",
          "height": 456
        }
      },
      "cell_type": "code",
      "source": [
        "from sklearn.metrics import confusion_matrix\n",
        "from sklearn.metrics import classification_report\n",
        "\n",
        "cr = classification_report(y_val,  y_pred)\n",
        "print(cr)\n",
        "\n",
        "# confusion matrix\n",
        "cm = confusion_matrix(y_val, y_pred)\n",
        "sns.heatmap(cm, annot = True)"
      ],
      "execution_count": 0,
      "outputs": [
        {
          "output_type": "stream",
          "text": [
            "              precision    recall  f1-score   support\n",
            "\n",
            "           0       0.79      0.97      0.87     36614\n",
            "           1       0.37      0.06      0.10     10017\n",
            "\n",
            "   micro avg       0.78      0.78      0.78     46631\n",
            "   macro avg       0.58      0.52      0.49     46631\n",
            "weighted avg       0.70      0.78      0.71     46631\n",
            "\n"
          ],
          "name": "stdout"
        },
        {
          "output_type": "execute_result",
          "data": {
            "text/plain": [
              "<matplotlib.axes._subplots.AxesSubplot at 0x7f15bca42ac8>"
            ]
          },
          "metadata": {
            "tags": []
          },
          "execution_count": 407
        },
        {
          "output_type": "display_data",
          "data": {
            "image/png": "[encoded data removed]",
            "text/plain": [
              "<Figure size 432x288 with 2 Axes>"
            ]
          },
          "metadata": {
            "tags": []
          }
        }
      ]
    },
    {
      "metadata": {
        "id": "G2aCJXJcNMYw",
        "colab_type": "code",
        "outputId": "2a95cefc-4e98-4dda-ee68-f754a27089b8",
        "colab": {
          "base_uri": "https://localhost:8080/",
          "height": 35
        }
      },
      "cell_type": "code",
      "source": [
        "# avg precision score\n",
        "from sklearn.metrics import average_precision_score\n",
        "\n",
        "avg_prediction_rf = average_precision_score(y_val, y_pred)\n",
        "print('Average Precision Score Random Forest:', avg_prediction_rf)"
      ],
      "execution_count": 0,
      "outputs": [
        {
          "output_type": "stream",
          "text": [
            "Average Precision Score Random Forest: 0.22405917839744116\n"
          ],
          "name": "stdout"
        }
      ]
    },
    {
      "metadata": {
        "id": "e7-AStKdiNiC",
        "colab_type": "code",
        "colab": {}
      },
      "cell_type": "code",
      "source": [
        "y_pred_rf = classifier.predict(x_test)"
      ],
      "execution_count": 0,
      "outputs": []
    },
    {
      "metadata": {
        "id": "uF_PG9NU6APA",
        "colab_type": "code",
        "colab": {}
      },
      "cell_type": "code",
      "source": [
        "submission = pd.DataFrame({'UniqueID': u_id,'loan_default': y_pred_rf})"
      ],
      "execution_count": 0,
      "outputs": []
    },
    {
      "metadata": {
        "id": "gwIReKpu6HY2",
        "colab_type": "code",
        "outputId": "1f5bdae1-0295-48ba-f97e-d0b3b7e7301f",
        "colab": {
          "base_uri": "https://localhost:8080/",
          "height": 35
        }
      },
      "cell_type": "code",
      "source": [
        "filename = 'submission_rf.csv'\n",
        "\n",
        "submission.to_csv(filename,index=False)\n",
        "\n",
        "print('Saved file: ' + filename)"
      ],
      "execution_count": 0,
      "outputs": [
        {
          "output_type": "stream",
          "text": [
            "Saved file: submission_rf.csv\n"
          ],
          "name": "stdout"
        }
      ]
    },
    {
      "metadata": {
        "id": "73474TX69Lfl",
        "colab_type": "code",
        "colab": {
          "base_uri": "https://localhost:8080/",
          "height": 492
        },
        "outputId": "bbdad688-08e3-4310-cebe-eb8258ce72d2"
      },
      "cell_type": "code",
      "source": [
        "#XGBoost\n",
        "\n",
        "\n",
        "from xgboost.sklearn import XGBClassifier\n",
        "from sklearn.metrics import confusion_matrix\n",
        "from sklearn.metrics import classification_report\n",
        "\n",
        "class_xgb = XGBClassifier()\n",
        "class_xgb.fit(x_train, y_train)\n",
        "\n",
        "\n",
        "y_pred = class_xgb.predict(x_val)\n",
        "\n",
        "print(\"Training Accuracy: \", class_xgb.score(x_train, y_train))\n",
        "print('Testing Accuarcy: ', class_xgb.score(x_val, y_val))\n",
        "\n",
        "#classification report\n",
        "cr = classification_report(y_val,  y_pred)\n",
        "print(cr)\n",
        "\n",
        "#confusion matrix\n",
        "cm = confusion_matrix(y_val, y_pred)\n",
        "sns.heatmap(cm, annot = True)"
      ],
      "execution_count": 431,
      "outputs": [
        {
          "output_type": "stream",
          "text": [
            "Training Accuracy:  0.7827077625815583\n",
            "Testing Accuarcy:  0.7853573802835024\n",
            "              precision    recall  f1-score   support\n",
            "\n",
            "           0       0.79      1.00      0.88     36614\n",
            "           1       0.59      0.00      0.01     10017\n",
            "\n",
            "   micro avg       0.79      0.79      0.79     46631\n",
            "   macro avg       0.69      0.50      0.44     46631\n",
            "weighted avg       0.74      0.79      0.69     46631\n",
            "\n"
          ],
          "name": "stdout"
        },
        {
          "output_type": "execute_result",
          "data": {
            "text/plain": [
              "<matplotlib.axes._subplots.AxesSubplot at 0x7f15c43bef28>"
            ]
          },
          "metadata": {
            "tags": []
          },
          "execution_count": 431
        },
        {
          "output_type": "display_data",
          "data": {
            "image/png": "[encoded data removed]",
            "text/plain": [
              "<Figure size 432x288 with 2 Axes>"
            ]
          },
          "metadata": {
            "tags": []
          }
        }
      ]
    },
    {
      "metadata": {
        "id": "XooKS8Wr-vRR",
        "colab_type": "code",
        "colab": {
          "base_uri": "https://localhost:8080/",
          "height": 35
        },
        "outputId": "0a3bb7ec-9645-49c3-a60c-1aa42d1275e3"
      },
      "cell_type": "code",
      "source": [
        "# avg precision score\n",
        "from sklearn.metrics import average_precision_score\n",
        "\n",
        "avg_prediction_xg = average_precision_score(y_val, y_pred)\n",
        "print('Average Precision Score XG BOOST:', avg_prediction_xg)"
      ],
      "execution_count": 432,
      "outputs": [
        {
          "output_type": "stream",
          "text": [
            "Average Precision Score XG BOOST: 0.21581725849838782\n"
          ],
          "name": "stdout"
        }
      ]
    },
    {
      "metadata": {
        "id": "atX6S6hd-8ky",
        "colab_type": "code",
        "colab": {
          "base_uri": "https://localhost:8080/",
          "height": 35
        },
        "outputId": "8e26de19-4c78-4f2b-b1fe-269827847caa"
      },
      "cell_type": "code",
      "source": [
        "y_pred_xg = classifier.predict(x_test)\n",
        "submission = pd.DataFrame({'UniqueID': u_id,'loan_default': y_pred_xg})\n",
        "filename = 'submission_xg.csv'\n",
        "\n",
        "submission.to_csv(filename,index=False)\n",
        "\n",
        "print('Saved file: ' + filename)"
      ],
      "execution_count": 433,
      "outputs": [
        {
          "output_type": "stream",
          "text": [
            "Saved file: submission_xg.csv\n"
          ],
          "name": "stdout"
        }
      ]
    },
    {
      "metadata": {
        "id": "uqT_NQg2_dY5",
        "colab_type": "code",
        "colab": {}
      },
      "cell_type": "code",
      "source": [
        ""
      ],
      "execution_count": 0,
      "outputs": []
    },
    {
      "metadata": {
        "id": "JPTOMTlZ-8r-",
        "colab_type": "code",
        "colab": {
          "base_uri": "https://localhost:8080/",
          "height": 492
        },
        "outputId": "2cd24e3a-5b05-4ded-b632-00447463fa6b"
      },
      "cell_type": "code",
      "source": [
        "# LGBoost\n",
        "\n",
        "from lightgbm import LGBMClassifier\n",
        "from sklearn.metrics import confusion_matrix\n",
        "from sklearn.metrics import classification_report\n",
        "\n",
        "class_lgb = LGBMClassifier(max_depth=-1, random_state=314, silent=True, metric='None', n_jobs=4, n_estimators=5000)\n",
        "class_lgb.fit(x_train, y_train)\n",
        "y_pred = class_lgb.predict(x_val)\n",
        "\n",
        "print(\"Training Accuracy: \", class_lgb.score(x_train, y_train))\n",
        "print('Testing Accuarcy: ', class_lgb.score(x_val, y_val))\n",
        "\n",
        "#classification report\n",
        "cr = classification_report(y_val,  y_pred)\n",
        "print(cr)\n",
        "\n",
        "#confusion matrix\n",
        "cm = confusion_matrix(y_val, y_pred)\n",
        "sns.heatmap(cm, annot = True)"
      ],
      "execution_count": 437,
      "outputs": [
        {
          "output_type": "stream",
          "text": [
            "Training Accuracy:  0.883644376296757\n",
            "Testing Accuarcy:  0.7775085243721988\n",
            "              precision    recall  f1-score   support\n",
            "\n",
            "           0       0.79      0.97      0.87     36614\n",
            "           1       0.40      0.07      0.12     10017\n",
            "\n",
            "   micro avg       0.78      0.78      0.78     46631\n",
            "   macro avg       0.59      0.52      0.49     46631\n",
            "weighted avg       0.71      0.78      0.71     46631\n",
            "\n"
          ],
          "name": "stdout"
        },
        {
          "output_type": "execute_result",
          "data": {
            "text/plain": [
              "<matplotlib.axes._subplots.AxesSubplot at 0x7f15bbda5780>"
            ]
          },
          "metadata": {
            "tags": []
          },
          "execution_count": 437
        },
        {
          "output_type": "display_data",
          "data": {
            "image/png": "[encoded data removed]",
            "text/plain": [
              "<Figure size 432x288 with 2 Axes>"
            ]
          },
          "metadata": {
            "tags": []
          }
        }
      ]
    },
    {
      "metadata": {
        "id": "R33t6zJ6-8xE",
        "colab_type": "code",
        "colab": {
          "base_uri": "https://localhost:8080/",
          "height": 35
        },
        "outputId": "95a1b357-6582-40a2-b922-ac3bd9431a46"
      },
      "cell_type": "code",
      "source": [
        "# avg precision score\n",
        "from sklearn.metrics import average_precision_score\n",
        "\n",
        "avg_prediction_lg = average_precision_score(y_val, y_pred)\n",
        "print('Average Precision Score LGBOOST:', avg_prediction_lg)"
      ],
      "execution_count": 438,
      "outputs": [
        {
          "output_type": "stream",
          "text": [
            "Average Precision Score LGBOOST: 0.2272851868338372\n"
          ],
          "name": "stdout"
        }
      ]
    },
    {
      "metadata": {
        "id": "Nq5VcuCpAtXn",
        "colab_type": "code",
        "colab": {
          "base_uri": "https://localhost:8080/",
          "height": 35
        },
        "outputId": "a019bcc5-44bc-4e58-a072-4c44e871b174"
      },
      "cell_type": "code",
      "source": [
        "y_pred_lg = classifier.predict(x_test)\n",
        "submission = pd.DataFrame({'UniqueID': u_id,'loan_default': y_pred_lg})\n",
        "filename = 'submission_lgu.csv'\n",
        "\n",
        "submission.to_csv(filename,index=False)\n",
        "\n",
        "print('Saved file: ' + filename)"
      ],
      "execution_count": 439,
      "outputs": [
        {
          "output_type": "stream",
          "text": [
            "Saved file: submission_lgu.csv\n"
          ],
          "name": "stdout"
        }
      ]
    },
    {
      "metadata": {
        "id": "69PKc1QYAtc0",
        "colab_type": "code",
        "colab": {}
      },
      "cell_type": "code",
      "source": [
        ""
      ],
      "execution_count": 0,
      "outputs": []
    }
  ]
}